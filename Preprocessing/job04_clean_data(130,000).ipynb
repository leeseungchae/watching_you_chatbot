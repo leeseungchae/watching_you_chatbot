{
 "cells": [
  {
   "cell_type": "code",
   "execution_count": 20,
   "metadata": {
    "collapsed": true
   },
   "outputs": [],
   "source": [
    "import pandas as pd"
   ]
  },
  {
   "cell_type": "code",
   "execution_count": 21,
   "outputs": [],
   "source": [
    "df = pd.read_csv('G:\\\\내 드라이브\\\\Watching_You_PJ\\project_ChatBot\\\\01_DataSet\\\\1_Raw_Data\\\\카페_train.csv')"
   ],
   "metadata": {
    "collapsed": false,
    "pycharm": {
     "name": "#%%\n"
    }
   }
  },
  {
   "cell_type": "code",
   "execution_count": 22,
   "outputs": [
    {
     "data": {
      "text/plain": "           IDX 발화자                                  발화문 카테고리   QA번호 QA여부 감성  \\\n0            1   s                  고객님 혹시 무슨 문제 있으신가요?   카페      5    q  m   \n1            2   c                               네 이상해요   카페      5    a  m   \n2            3   c  빙수 위에 뿌려진 과일에서 쉰 냄새가 나는데 어떻게 하면 되죠?   카페  20591    q  n   \n3            4   s      죄송합니다, 폐기처분 하고 새 빙수를 제조해드리겠습니다.   카페  20591    a  m   \n4            5   c              마카롱 주문했는데 마카롱이 엄청 딱딱해요.   카페  66996    q  n   \n...        ...  ..                                  ...  ...    ...  ... ..   \n169628  169629   s           죄송합니다, 모바일상품권은 사용이 어려우십니다.   카페   6799    a  m   \n169629  169630   c             기프티콘으로 음료 계산할 수 있는 거 맞죠?   카페  10432    q  m   \n169630  169631   s               네, 기프티콘으로 음료 계산 가능합니다.   카페  10432    a  m   \n169631  169632   c              후레쉬크림빵 포인트로 결제할 수 있는거죠?   카페  47312    q  m   \n169632  169633   s                     네, 포인트로 결제가능합니다.   카페  47312    a  m   \n\n             인텐트   가격   수량   크기   장소   조직   사람   시간   날짜     상품명   상담번호  상담내순번  \n0       제품_불량_질문  NaN  NaN  NaN  NaN  NaN  NaN  NaN  NaN     NaN   9252      9  \n1       제품_불량_질문  NaN  NaN  NaN  NaN  NaN  NaN  NaN  NaN     NaN   9252     10  \n2       제품_불량_질문  NaN  NaN  NaN  NaN  NaN  NaN  NaN  NaN   빙수|과일  20591      1  \n3       제품_불량_질문  NaN  NaN  NaN  NaN  NaN  NaN  NaN  NaN      빙수  20591      2  \n4       제품_불량_질문  NaN  NaN  NaN  NaN  NaN  NaN  NaN  NaN     마카롱  66996      1  \n...          ...  ...  ...  ...  ...  ...  ...  ...  ...     ...    ...    ...  \n169628  결제_수단_확인  NaN  NaN  NaN  NaN  NaN  NaN  NaN  NaN     NaN   6799      2  \n169629  결제_수단_확인  NaN  NaN  NaN  NaN  NaN  NaN  NaN  NaN     NaN  10432      1  \n169630  결제_수단_확인  NaN  NaN  NaN  NaN  NaN  NaN  NaN  NaN     NaN  10432      2  \n169631  결제_수단_확인  NaN  NaN  NaN  NaN  NaN  NaN  NaN  NaN  후레쉬크림빵  47312      1  \n169632  결제_수단_확인  NaN  NaN  NaN  NaN  NaN  NaN  NaN  NaN     NaN  47312      2  \n\n[169633 rows x 19 columns]",
      "text/html": "<div>\n<style scoped>\n    .dataframe tbody tr th:only-of-type {\n        vertical-align: middle;\n    }\n\n    .dataframe tbody tr th {\n        vertical-align: top;\n    }\n\n    .dataframe thead th {\n        text-align: right;\n    }\n</style>\n<table border=\"1\" class=\"dataframe\">\n  <thead>\n    <tr style=\"text-align: right;\">\n      <th></th>\n      <th>IDX</th>\n      <th>발화자</th>\n      <th>발화문</th>\n      <th>카테고리</th>\n      <th>QA번호</th>\n      <th>QA여부</th>\n      <th>감성</th>\n      <th>인텐트</th>\n      <th>가격</th>\n      <th>수량</th>\n      <th>크기</th>\n      <th>장소</th>\n      <th>조직</th>\n      <th>사람</th>\n      <th>시간</th>\n      <th>날짜</th>\n      <th>상품명</th>\n      <th>상담번호</th>\n      <th>상담내순번</th>\n    </tr>\n  </thead>\n  <tbody>\n    <tr>\n      <th>0</th>\n      <td>1</td>\n      <td>s</td>\n      <td>고객님 혹시 무슨 문제 있으신가요?</td>\n      <td>카페</td>\n      <td>5</td>\n      <td>q</td>\n      <td>m</td>\n      <td>제품_불량_질문</td>\n      <td>NaN</td>\n      <td>NaN</td>\n      <td>NaN</td>\n      <td>NaN</td>\n      <td>NaN</td>\n      <td>NaN</td>\n      <td>NaN</td>\n      <td>NaN</td>\n      <td>NaN</td>\n      <td>9252</td>\n      <td>9</td>\n    </tr>\n    <tr>\n      <th>1</th>\n      <td>2</td>\n      <td>c</td>\n      <td>네 이상해요</td>\n      <td>카페</td>\n      <td>5</td>\n      <td>a</td>\n      <td>m</td>\n      <td>제품_불량_질문</td>\n      <td>NaN</td>\n      <td>NaN</td>\n      <td>NaN</td>\n      <td>NaN</td>\n      <td>NaN</td>\n      <td>NaN</td>\n      <td>NaN</td>\n      <td>NaN</td>\n      <td>NaN</td>\n      <td>9252</td>\n      <td>10</td>\n    </tr>\n    <tr>\n      <th>2</th>\n      <td>3</td>\n      <td>c</td>\n      <td>빙수 위에 뿌려진 과일에서 쉰 냄새가 나는데 어떻게 하면 되죠?</td>\n      <td>카페</td>\n      <td>20591</td>\n      <td>q</td>\n      <td>n</td>\n      <td>제품_불량_질문</td>\n      <td>NaN</td>\n      <td>NaN</td>\n      <td>NaN</td>\n      <td>NaN</td>\n      <td>NaN</td>\n      <td>NaN</td>\n      <td>NaN</td>\n      <td>NaN</td>\n      <td>빙수|과일</td>\n      <td>20591</td>\n      <td>1</td>\n    </tr>\n    <tr>\n      <th>3</th>\n      <td>4</td>\n      <td>s</td>\n      <td>죄송합니다, 폐기처분 하고 새 빙수를 제조해드리겠습니다.</td>\n      <td>카페</td>\n      <td>20591</td>\n      <td>a</td>\n      <td>m</td>\n      <td>제품_불량_질문</td>\n      <td>NaN</td>\n      <td>NaN</td>\n      <td>NaN</td>\n      <td>NaN</td>\n      <td>NaN</td>\n      <td>NaN</td>\n      <td>NaN</td>\n      <td>NaN</td>\n      <td>빙수</td>\n      <td>20591</td>\n      <td>2</td>\n    </tr>\n    <tr>\n      <th>4</th>\n      <td>5</td>\n      <td>c</td>\n      <td>마카롱 주문했는데 마카롱이 엄청 딱딱해요.</td>\n      <td>카페</td>\n      <td>66996</td>\n      <td>q</td>\n      <td>n</td>\n      <td>제품_불량_질문</td>\n      <td>NaN</td>\n      <td>NaN</td>\n      <td>NaN</td>\n      <td>NaN</td>\n      <td>NaN</td>\n      <td>NaN</td>\n      <td>NaN</td>\n      <td>NaN</td>\n      <td>마카롱</td>\n      <td>66996</td>\n      <td>1</td>\n    </tr>\n    <tr>\n      <th>...</th>\n      <td>...</td>\n      <td>...</td>\n      <td>...</td>\n      <td>...</td>\n      <td>...</td>\n      <td>...</td>\n      <td>...</td>\n      <td>...</td>\n      <td>...</td>\n      <td>...</td>\n      <td>...</td>\n      <td>...</td>\n      <td>...</td>\n      <td>...</td>\n      <td>...</td>\n      <td>...</td>\n      <td>...</td>\n      <td>...</td>\n      <td>...</td>\n    </tr>\n    <tr>\n      <th>169628</th>\n      <td>169629</td>\n      <td>s</td>\n      <td>죄송합니다, 모바일상품권은 사용이 어려우십니다.</td>\n      <td>카페</td>\n      <td>6799</td>\n      <td>a</td>\n      <td>m</td>\n      <td>결제_수단_확인</td>\n      <td>NaN</td>\n      <td>NaN</td>\n      <td>NaN</td>\n      <td>NaN</td>\n      <td>NaN</td>\n      <td>NaN</td>\n      <td>NaN</td>\n      <td>NaN</td>\n      <td>NaN</td>\n      <td>6799</td>\n      <td>2</td>\n    </tr>\n    <tr>\n      <th>169629</th>\n      <td>169630</td>\n      <td>c</td>\n      <td>기프티콘으로 음료 계산할 수 있는 거 맞죠?</td>\n      <td>카페</td>\n      <td>10432</td>\n      <td>q</td>\n      <td>m</td>\n      <td>결제_수단_확인</td>\n      <td>NaN</td>\n      <td>NaN</td>\n      <td>NaN</td>\n      <td>NaN</td>\n      <td>NaN</td>\n      <td>NaN</td>\n      <td>NaN</td>\n      <td>NaN</td>\n      <td>NaN</td>\n      <td>10432</td>\n      <td>1</td>\n    </tr>\n    <tr>\n      <th>169630</th>\n      <td>169631</td>\n      <td>s</td>\n      <td>네, 기프티콘으로 음료 계산 가능합니다.</td>\n      <td>카페</td>\n      <td>10432</td>\n      <td>a</td>\n      <td>m</td>\n      <td>결제_수단_확인</td>\n      <td>NaN</td>\n      <td>NaN</td>\n      <td>NaN</td>\n      <td>NaN</td>\n      <td>NaN</td>\n      <td>NaN</td>\n      <td>NaN</td>\n      <td>NaN</td>\n      <td>NaN</td>\n      <td>10432</td>\n      <td>2</td>\n    </tr>\n    <tr>\n      <th>169631</th>\n      <td>169632</td>\n      <td>c</td>\n      <td>후레쉬크림빵 포인트로 결제할 수 있는거죠?</td>\n      <td>카페</td>\n      <td>47312</td>\n      <td>q</td>\n      <td>m</td>\n      <td>결제_수단_확인</td>\n      <td>NaN</td>\n      <td>NaN</td>\n      <td>NaN</td>\n      <td>NaN</td>\n      <td>NaN</td>\n      <td>NaN</td>\n      <td>NaN</td>\n      <td>NaN</td>\n      <td>후레쉬크림빵</td>\n      <td>47312</td>\n      <td>1</td>\n    </tr>\n    <tr>\n      <th>169632</th>\n      <td>169633</td>\n      <td>s</td>\n      <td>네, 포인트로 결제가능합니다.</td>\n      <td>카페</td>\n      <td>47312</td>\n      <td>a</td>\n      <td>m</td>\n      <td>결제_수단_확인</td>\n      <td>NaN</td>\n      <td>NaN</td>\n      <td>NaN</td>\n      <td>NaN</td>\n      <td>NaN</td>\n      <td>NaN</td>\n      <td>NaN</td>\n      <td>NaN</td>\n      <td>NaN</td>\n      <td>47312</td>\n      <td>2</td>\n    </tr>\n  </tbody>\n</table>\n<p>169633 rows × 19 columns</p>\n</div>"
     },
     "execution_count": 22,
     "metadata": {},
     "output_type": "execute_result"
    }
   ],
   "source": [
    "df"
   ],
   "metadata": {
    "collapsed": false,
    "pycharm": {
     "name": "#%%\n"
    }
   }
  },
  {
   "cell_type": "code",
   "execution_count": 23,
   "outputs": [],
   "source": [
    "df= df[['IDX','발화자','발화문','인텐트','QA여부','QA번호']]"
   ],
   "metadata": {
    "collapsed": false,
    "pycharm": {
     "name": "#%%\n"
    }
   }
  },
  {
   "cell_type": "code",
   "execution_count": 24,
   "outputs": [
    {
     "data": {
      "text/plain": "           IDX 발화자                                  발화문       인텐트 QA여부   QA번호\n0            1   s                  고객님 혹시 무슨 문제 있으신가요?  제품_불량_질문    q      5\n1            2   c                               네 이상해요  제품_불량_질문    a      5\n2            3   c  빙수 위에 뿌려진 과일에서 쉰 냄새가 나는데 어떻게 하면 되죠?  제품_불량_질문    q  20591\n3            4   s      죄송합니다, 폐기처분 하고 새 빙수를 제조해드리겠습니다.  제품_불량_질문    a  20591\n4            5   c              마카롱 주문했는데 마카롱이 엄청 딱딱해요.  제품_불량_질문    q  66996\n...        ...  ..                                  ...       ...  ...    ...\n169628  169629   s           죄송합니다, 모바일상품권은 사용이 어려우십니다.  결제_수단_확인    a   6799\n169629  169630   c             기프티콘으로 음료 계산할 수 있는 거 맞죠?  결제_수단_확인    q  10432\n169630  169631   s               네, 기프티콘으로 음료 계산 가능합니다.  결제_수단_확인    a  10432\n169631  169632   c              후레쉬크림빵 포인트로 결제할 수 있는거죠?  결제_수단_확인    q  47312\n169632  169633   s                     네, 포인트로 결제가능합니다.  결제_수단_확인    a  47312\n\n[169633 rows x 6 columns]",
      "text/html": "<div>\n<style scoped>\n    .dataframe tbody tr th:only-of-type {\n        vertical-align: middle;\n    }\n\n    .dataframe tbody tr th {\n        vertical-align: top;\n    }\n\n    .dataframe thead th {\n        text-align: right;\n    }\n</style>\n<table border=\"1\" class=\"dataframe\">\n  <thead>\n    <tr style=\"text-align: right;\">\n      <th></th>\n      <th>IDX</th>\n      <th>발화자</th>\n      <th>발화문</th>\n      <th>인텐트</th>\n      <th>QA여부</th>\n      <th>QA번호</th>\n    </tr>\n  </thead>\n  <tbody>\n    <tr>\n      <th>0</th>\n      <td>1</td>\n      <td>s</td>\n      <td>고객님 혹시 무슨 문제 있으신가요?</td>\n      <td>제품_불량_질문</td>\n      <td>q</td>\n      <td>5</td>\n    </tr>\n    <tr>\n      <th>1</th>\n      <td>2</td>\n      <td>c</td>\n      <td>네 이상해요</td>\n      <td>제품_불량_질문</td>\n      <td>a</td>\n      <td>5</td>\n    </tr>\n    <tr>\n      <th>2</th>\n      <td>3</td>\n      <td>c</td>\n      <td>빙수 위에 뿌려진 과일에서 쉰 냄새가 나는데 어떻게 하면 되죠?</td>\n      <td>제품_불량_질문</td>\n      <td>q</td>\n      <td>20591</td>\n    </tr>\n    <tr>\n      <th>3</th>\n      <td>4</td>\n      <td>s</td>\n      <td>죄송합니다, 폐기처분 하고 새 빙수를 제조해드리겠습니다.</td>\n      <td>제품_불량_질문</td>\n      <td>a</td>\n      <td>20591</td>\n    </tr>\n    <tr>\n      <th>4</th>\n      <td>5</td>\n      <td>c</td>\n      <td>마카롱 주문했는데 마카롱이 엄청 딱딱해요.</td>\n      <td>제품_불량_질문</td>\n      <td>q</td>\n      <td>66996</td>\n    </tr>\n    <tr>\n      <th>...</th>\n      <td>...</td>\n      <td>...</td>\n      <td>...</td>\n      <td>...</td>\n      <td>...</td>\n      <td>...</td>\n    </tr>\n    <tr>\n      <th>169628</th>\n      <td>169629</td>\n      <td>s</td>\n      <td>죄송합니다, 모바일상품권은 사용이 어려우십니다.</td>\n      <td>결제_수단_확인</td>\n      <td>a</td>\n      <td>6799</td>\n    </tr>\n    <tr>\n      <th>169629</th>\n      <td>169630</td>\n      <td>c</td>\n      <td>기프티콘으로 음료 계산할 수 있는 거 맞죠?</td>\n      <td>결제_수단_확인</td>\n      <td>q</td>\n      <td>10432</td>\n    </tr>\n    <tr>\n      <th>169630</th>\n      <td>169631</td>\n      <td>s</td>\n      <td>네, 기프티콘으로 음료 계산 가능합니다.</td>\n      <td>결제_수단_확인</td>\n      <td>a</td>\n      <td>10432</td>\n    </tr>\n    <tr>\n      <th>169631</th>\n      <td>169632</td>\n      <td>c</td>\n      <td>후레쉬크림빵 포인트로 결제할 수 있는거죠?</td>\n      <td>결제_수단_확인</td>\n      <td>q</td>\n      <td>47312</td>\n    </tr>\n    <tr>\n      <th>169632</th>\n      <td>169633</td>\n      <td>s</td>\n      <td>네, 포인트로 결제가능합니다.</td>\n      <td>결제_수단_확인</td>\n      <td>a</td>\n      <td>47312</td>\n    </tr>\n  </tbody>\n</table>\n<p>169633 rows × 6 columns</p>\n</div>"
     },
     "execution_count": 24,
     "metadata": {},
     "output_type": "execute_result"
    }
   ],
   "source": [
    "df"
   ],
   "metadata": {
    "collapsed": false,
    "pycharm": {
     "name": "#%%\n"
    }
   }
  },
  {
   "cell_type": "code",
   "execution_count": 25,
   "outputs": [],
   "source": [
    "df.to_csv('G:\\\\내 드라이브\\\\Watching_You_PJ\\\\project_ChatBot\\\\02_preprocessing\\\\cleaned_Data(130,000).csv',index =False)"
   ],
   "metadata": {
    "collapsed": false,
    "pycharm": {
     "name": "#%%\n"
    }
   }
  },
  {
   "cell_type": "code",
   "execution_count": 26,
   "outputs": [
    {
     "name": "stdout",
     "output_type": "stream",
     "text": [
      "169633\n"
     ]
    }
   ],
   "source": [
    "df_len = len(df)\n",
    "print(df_len)"
   ],
   "metadata": {
    "collapsed": false,
    "pycharm": {
     "name": "#%%\n"
    }
   }
  },
  {
   "cell_type": "code",
   "execution_count": 27,
   "outputs": [
    {
     "name": "stdout",
     "output_type": "stream",
     "text": [
      "84817\n"
     ]
    }
   ],
   "source": [
    "df_len_0 = list(range(0,df_len,2))\n",
    "df_len_1 = list(range(1,df_len,2))\n",
    "\n",
    "print(len(df_len_0))"
   ],
   "metadata": {
    "collapsed": false,
    "pycharm": {
     "name": "#%%\n"
    }
   }
  },
  {
   "cell_type": "code",
   "execution_count": 28,
   "outputs": [
    {
     "name": "stdout",
     "output_type": "stream",
     "text": [
      "IDX                       1\n",
      "발화자                       s\n",
      "발화문     고객님 혹시 무슨 문제 있으신가요?\n",
      "인텐트                제품_불량_질문\n",
      "QA여부                      q\n",
      "QA번호                      5\n",
      "Name: 0, dtype: object\n"
     ]
    }
   ],
   "source": [
    "print(df.iloc[0])"
   ],
   "metadata": {
    "collapsed": false,
    "pycharm": {
     "name": "#%%\n"
    }
   }
  },
  {
   "cell_type": "code",
   "execution_count": 29,
   "outputs": [
    {
     "name": "stdout",
     "output_type": "stream",
     "text": [
      "301\n",
      "401\n",
      "1001\n",
      "1101\n",
      "1201\n",
      "1401\n",
      "1601\n",
      "1801\n",
      "2101\n",
      "2301\n",
      "2401\n",
      "2501\n",
      "2601\n",
      "3101\n",
      "3201\n",
      "3401\n",
      "3901\n",
      "4001\n",
      "4101\n",
      "4501\n",
      "4601\n",
      "4701\n",
      "4801\n",
      "4901\n",
      "5101\n",
      "5201\n",
      "5301\n",
      "5701\n",
      "5801\n",
      "6001\n",
      "6101\n",
      "6401\n",
      "6601\n",
      "6701\n",
      "6801\n",
      "6901\n",
      "7201\n",
      "7901\n",
      "8201\n",
      "8801\n",
      "9001\n",
      "9101\n",
      "9301\n",
      "9401\n",
      "9701\n",
      "9801\n",
      "9901\n",
      "10001\n",
      "10201\n",
      "10301\n",
      "10401\n",
      "10501\n",
      "10601\n",
      "10901\n",
      "11101\n",
      "11201\n",
      "11301\n",
      "11401\n",
      "11501\n",
      "11601\n",
      "11701\n",
      "11801\n",
      "12001\n",
      "12101\n",
      "12701\n",
      "12901\n",
      "13001\n",
      "13301\n",
      "13401\n",
      "13601\n",
      "13801\n",
      "14001\n",
      "14101\n",
      "14201\n",
      "14401\n",
      "14901\n",
      "15101\n",
      "15201\n",
      "15301\n",
      "15401\n",
      "15801\n",
      "16101\n",
      "16201\n",
      "16301\n",
      "16401\n",
      "17401\n",
      "17501\n",
      "17601\n",
      "17701\n",
      "17801\n",
      "17901\n",
      "18001\n",
      "18101\n",
      "18801\n",
      "18901\n",
      "19001\n",
      "19101\n",
      "19201\n",
      "19301\n",
      "19401\n",
      "20101\n",
      "20201\n",
      "20301\n",
      "20401\n",
      "20501\n",
      "20601\n",
      "20701\n",
      "21101\n",
      "21201\n",
      "21301\n",
      "21401\n",
      "22301\n",
      "22401\n",
      "22501\n",
      "22901\n",
      "23001\n",
      "23101\n",
      "23201\n",
      "23301\n",
      "24101\n",
      "24201\n",
      "24301\n",
      "24401\n",
      "24501\n",
      "27101\n",
      "27401\n",
      "27501\n",
      "27801\n",
      "27901\n",
      "28001\n",
      "28101\n",
      "28201\n",
      "28501\n",
      "28801\n",
      "28901\n",
      "29001\n",
      "29101\n",
      "29401\n",
      "29901\n",
      "30101\n",
      "30401\n",
      "31001\n",
      "31401\n",
      "31501\n",
      "31601\n",
      "31801\n",
      "32501\n",
      "33701\n",
      "34001\n",
      "34201\n",
      "34601\n",
      "35101\n",
      "35801\n",
      "35901\n",
      "36001\n",
      "36301\n",
      "36601\n",
      "36801\n",
      "37001\n",
      "37401\n",
      "37501\n",
      "37701\n",
      "38001\n",
      "38401\n",
      "38501\n",
      "38601\n",
      "38701\n",
      "39101\n",
      "39301\n",
      "39501\n",
      "39601\n",
      "40201\n",
      "40301\n",
      "40601\n",
      "40801\n",
      "41101\n",
      "41301\n",
      "41501\n",
      "41601\n",
      "42101\n",
      "43201\n",
      "43301\n",
      "43601\n",
      "43901\n",
      "44201\n",
      "44301\n",
      "44501\n",
      "45201\n",
      "45501\n",
      "45601\n",
      "45801\n",
      "46001\n",
      "46101\n",
      "46301\n",
      "46501\n",
      "46601\n",
      "47101\n",
      "47801\n",
      "48201\n",
      "48301\n",
      "48401\n",
      "48501\n",
      "48601\n",
      "48701\n",
      "49201\n",
      "49301\n",
      "49701\n",
      "49801\n",
      "50301\n",
      "50401\n",
      "50701\n",
      "51201\n",
      "51401\n",
      "51501\n",
      "51601\n",
      "51701\n",
      "51801\n",
      "52501\n",
      "52601\n",
      "53101\n",
      "53301\n",
      "54101\n",
      "54201\n",
      "54301\n",
      "54401\n",
      "54601\n",
      "54701\n",
      "54801\n",
      "54901\n",
      "55201\n",
      "55301\n",
      "55401\n",
      "55501\n",
      "55901\n",
      "56001\n",
      "56201\n",
      "56301\n",
      "56701\n",
      "56901\n",
      "57201\n",
      "57801\n",
      "58001\n",
      "58101\n",
      "58201\n",
      "58301\n",
      "58401\n",
      "58501\n",
      "58701\n",
      "58801\n",
      "59001\n",
      "59301\n",
      "59401\n",
      "60201\n",
      "60301\n",
      "61001\n",
      "61101\n",
      "61901\n",
      "62401\n",
      "62501\n",
      "62601\n",
      "62801\n",
      "63301\n",
      "63701\n",
      "63801\n",
      "64201\n",
      "64301\n",
      "64901\n",
      "65001\n",
      "65101\n",
      "65301\n",
      "65601\n",
      "65801\n",
      "66001\n",
      "66101\n",
      "66201\n",
      "66301\n",
      "66401\n",
      "66501\n",
      "66601\n",
      "66901\n",
      "67401\n",
      "67701\n",
      "67801\n",
      "68101\n",
      "68201\n",
      "68501\n",
      "69201\n",
      "69601\n",
      "69701\n",
      "69901\n",
      "70301\n",
      "70401\n",
      "70501\n",
      "71101\n",
      "71201\n",
      "71401\n",
      "71801\n",
      "72001\n",
      "72201\n",
      "72301\n",
      "72401\n",
      "73701\n",
      "73901\n",
      "74001\n",
      "74501\n",
      "74801\n",
      "74901\n",
      "75801\n",
      "75901\n",
      "76101\n",
      "76201\n",
      "76301\n",
      "76501\n",
      "76601\n",
      "76701\n",
      "76901\n",
      "77301\n",
      "77401\n",
      "77501\n",
      "77601\n",
      "78001\n",
      "78201\n",
      "78301\n",
      "78501\n",
      "78601\n",
      "78701\n",
      "79101\n",
      "79301\n",
      "79401\n",
      "79501\n",
      "79701\n",
      "79801\n",
      "80001\n",
      "80201\n",
      "80301\n",
      "80401\n",
      "80501\n",
      "80901\n",
      "81201\n",
      "81601\n",
      "81701\n",
      "81801\n",
      "82001\n",
      "82401\n",
      "82601\n",
      "82701\n",
      "82801\n",
      "83001\n",
      "83301\n",
      "83601\n",
      "83901\n",
      "84001\n",
      "84401\n",
      "84501\n",
      "85601\n",
      "86101\n",
      "86401\n",
      "86601\n",
      "86701\n",
      "87401\n",
      "87601\n",
      "87701\n",
      "87901\n",
      "88001\n",
      "88101\n",
      "88201\n",
      "88301\n",
      "88401\n",
      "88501\n",
      "89101\n",
      "89301\n",
      "89401\n",
      "89601\n",
      "89701\n",
      "89801\n",
      "90001\n",
      "90501\n",
      "90601\n",
      "90801\n",
      "90901\n",
      "91001\n",
      "91101\n",
      "91501\n",
      "91801\n",
      "92001\n",
      "92501\n",
      "92601\n",
      "92701\n",
      "92901\n",
      "93101\n",
      "93301\n",
      "93701\n",
      "93801\n",
      "93901\n",
      "94001\n",
      "94101\n",
      "94201\n",
      "94401\n",
      "94501\n",
      "94601\n",
      "94701\n",
      "94801\n",
      "94901\n",
      "95001\n",
      "95101\n",
      "95201\n",
      "95301\n",
      "95401\n",
      "95701\n",
      "95801\n",
      "95901\n",
      "96001\n",
      "96101\n",
      "96201\n",
      "96301\n",
      "96401\n",
      "96501\n",
      "96601\n",
      "96701\n",
      "96801\n",
      "96901\n",
      "97301\n",
      "97701\n",
      "97901\n",
      "98001\n",
      "98101\n",
      "98201\n",
      "98301\n",
      "98801\n",
      "99001\n",
      "99101\n",
      "99301\n",
      "99401\n",
      "99501\n",
      "100101\n",
      "100301\n",
      "100601\n",
      "100901\n",
      "101101\n",
      "101401\n",
      "102201\n",
      "102401\n",
      "102501\n",
      "102701\n",
      "103701\n",
      "103901\n",
      "104201\n",
      "104601\n",
      "104701\n",
      "104901\n",
      "105201\n",
      "105501\n",
      "105701\n",
      "106801\n",
      "106901\n",
      "107101\n",
      "108101\n",
      "108201\n",
      "108601\n",
      "108701\n",
      "108801\n",
      "109101\n",
      "109201\n",
      "109501\n",
      "109901\n",
      "110001\n",
      "110101\n",
      "110201\n",
      "110601\n",
      "111001\n",
      "111101\n",
      "111201\n",
      "111301\n",
      "111701\n",
      "111901\n",
      "112001\n",
      "112201\n",
      "112501\n",
      "112601\n",
      "113301\n",
      "113401\n",
      "113601\n",
      "113701\n",
      "113801\n",
      "114001\n",
      "114701\n",
      "114901\n",
      "115401\n",
      "115801\n",
      "115901\n",
      "116401\n",
      "116801\n",
      "116901\n",
      "117301\n",
      "117401\n",
      "117601\n",
      "117701\n",
      "118001\n",
      "118101\n",
      "118301\n",
      "118501\n",
      "118601\n",
      "118901\n",
      "119101\n",
      "119501\n",
      "119701\n",
      "119801\n",
      "120001\n",
      "120101\n",
      "120501\n",
      "121101\n",
      "121301\n",
      "121401\n",
      "121701\n",
      "121901\n",
      "122201\n",
      "122401\n",
      "122701\n",
      "122901\n",
      "123001\n",
      "123301\n",
      "123501\n",
      "123601\n",
      "124401\n",
      "124801\n",
      "124901\n",
      "125001\n",
      "125601\n",
      "125701\n",
      "126101\n",
      "126201\n",
      "126301\n",
      "126401\n",
      "126501\n",
      "126801\n",
      "126901\n",
      "127101\n",
      "127601\n",
      "128001\n",
      "128501\n",
      "128601\n",
      "129601\n",
      "129701\n",
      "130201\n",
      "130301\n",
      "130501\n",
      "130601\n",
      "131001\n",
      "131101\n",
      "131201\n",
      "131701\n",
      "131801\n",
      "131901\n",
      "132101\n",
      "132201\n",
      "132401\n",
      "132501\n",
      "132601\n",
      "132701\n",
      "132801\n",
      "132901\n",
      "133001\n",
      "133301\n",
      "133701\n",
      "134001\n",
      "134401\n",
      "134501\n",
      "134601\n",
      "134701\n",
      "134801\n",
      "134901\n",
      "135101\n",
      "135201\n",
      "135401\n",
      "135501\n",
      "135801\n",
      "136101\n",
      "136201\n",
      "136301\n",
      "136501\n",
      "136801\n",
      "137001\n",
      "137101\n",
      "137201\n",
      "137301\n",
      "137401\n",
      "137501\n",
      "137601\n",
      "137901\n",
      "138001\n",
      "138101\n",
      "138201\n",
      "138401\n",
      "138501\n",
      "138901\n",
      "139101\n",
      "139301\n",
      "139401\n",
      "139701\n",
      "139801\n",
      "139901\n",
      "140001\n",
      "140201\n",
      "140401\n",
      "140501\n",
      "140601\n",
      "140701\n",
      "140801\n",
      "140901\n",
      "141001\n",
      "141201\n",
      "141301\n",
      "141501\n",
      "141601\n",
      "141801\n",
      "141901\n",
      "142201\n",
      "142301\n",
      "142601\n",
      "142701\n",
      "142801\n",
      "143001\n",
      "143101\n",
      "143301\n",
      "143901\n",
      "144401\n",
      "144501\n",
      "144601\n",
      "145001\n",
      "145101\n",
      "145201\n",
      "145301\n",
      "145401\n",
      "145501\n",
      "145601\n",
      "145701\n",
      "145801\n",
      "145901\n",
      "146001\n",
      "146101\n",
      "146201\n",
      "146301\n",
      "146501\n",
      "146801\n",
      "146901\n",
      "147101\n",
      "147301\n",
      "147401\n",
      "147501\n",
      "147601\n",
      "147701\n",
      "147901\n",
      "148001\n",
      "148101\n",
      "148601\n",
      "148701\n",
      "148901\n",
      "149301\n",
      "149601\n",
      "150001\n",
      "150201\n",
      "150301\n",
      "150501\n",
      "150701\n",
      "150801\n",
      "150901\n",
      "151101\n",
      "151201\n",
      "151701\n",
      "151801\n",
      "152201\n",
      "152301\n",
      "152401\n",
      "152601\n",
      "152701\n",
      "152801\n",
      "152901\n",
      "153401\n",
      "153801\n",
      "153901\n",
      "154001\n",
      "154101\n",
      "154301\n",
      "154701\n",
      "154801\n",
      "155301\n",
      "155701\n",
      "155801\n",
      "155901\n",
      "156001\n",
      "156101\n",
      "156201\n",
      "156301\n",
      "156401\n",
      "156601\n",
      "157101\n",
      "157301\n",
      "157401\n",
      "157501\n",
      "157601\n",
      "158001\n",
      "158301\n",
      "158601\n",
      "158901\n",
      "159201\n",
      "159301\n",
      "159701\n",
      "159901\n",
      "160101\n",
      "160201\n",
      "160801\n",
      "161001\n",
      "161201\n",
      "161301\n",
      "161901\n",
      "162801\n",
      "162901\n",
      "163101\n",
      "163201\n",
      "163301\n",
      "163401\n",
      "164201\n",
      "164301\n",
      "164401\n",
      "164501\n",
      "164801\n",
      "165401\n",
      "165501\n",
      "165601\n",
      "166401\n",
      "167301\n",
      "167901\n",
      "168201\n",
      "168501\n",
      "169201\n",
      "169501\n",
      "169601\n"
     ]
    },
    {
     "data": {
      "text/plain": "                                             Q  \\\n0                          고객님 혹시 무슨 문제 있으신가요?   \n1          빙수 위에 뿌려진 과일에서 쉰 냄새가 나는데 어떻게 하면 되죠?   \n2                      마카롱 주문했는데 마카롱이 엄청 딱딱해요.   \n3      와플 지금 받았는데 너무 눅눅해서 못먹겠어요 이거 어떻게 하면 되나요?   \n4           케이크에 생크림 모양이 너무 변형된 것 같은데 어떻게 하나요?   \n...                                        ...   \n75426                      기프티콘으로 결제 가능한 거 맞죠?   \n75427                         카카오페이로 결제 된거 맞죠?   \n75428                       모바일상품권도 결제할 수 있어요?   \n75429                 기프티콘으로 음료 계산할 수 있는 거 맞죠?   \n75430                  후레쉬크림빵 포인트로 결제할 수 있는거죠?   \n\n                                          A  Num_1   Num2         C  \n0                                    네 이상해요      5      5  제품_불량_질문  \n1           죄송합니다, 폐기처분 하고 새 빙수를 제조해드리겠습니다.  20591  20591  제품_불량_질문  \n2              죄송합니다. 마카롱 다른걸로 다시 보내드리겠습니다.  66996  66996  제품_불량_질문  \n3      죄송합니다, 불량 제품은 폐기해주시고 와플 재배송 해드리겠습니다.  20596  20596  제품_불량_질문  \n4             죄송합니다, 새 케이크로 포장해서 배송해드리겠습니다.  20586  20586  제품_불량_질문  \n...                                     ...    ...    ...       ...  \n75426                    네, 기프티콘 결제 가능합니다.   45461  45461  결제_수단_확인  \n75427                     네 카카오페이로 결제되셨습니다.  31251  31251  결제_수단_확인  \n75428            죄송합니다, 모바일상품권은 사용이 어려우십니다.   6799   6799  결제_수단_확인  \n75429                네, 기프티콘으로 음료 계산 가능합니다.  10432  10432  결제_수단_확인  \n75430                      네, 포인트로 결제가능합니다.  47312  47312  결제_수단_확인  \n\n[75431 rows x 5 columns]",
      "text/html": "<div>\n<style scoped>\n    .dataframe tbody tr th:only-of-type {\n        vertical-align: middle;\n    }\n\n    .dataframe tbody tr th {\n        vertical-align: top;\n    }\n\n    .dataframe thead th {\n        text-align: right;\n    }\n</style>\n<table border=\"1\" class=\"dataframe\">\n  <thead>\n    <tr style=\"text-align: right;\">\n      <th></th>\n      <th>Q</th>\n      <th>A</th>\n      <th>Num_1</th>\n      <th>Num2</th>\n      <th>C</th>\n    </tr>\n  </thead>\n  <tbody>\n    <tr>\n      <th>0</th>\n      <td>고객님 혹시 무슨 문제 있으신가요?</td>\n      <td>네 이상해요</td>\n      <td>5</td>\n      <td>5</td>\n      <td>제품_불량_질문</td>\n    </tr>\n    <tr>\n      <th>1</th>\n      <td>빙수 위에 뿌려진 과일에서 쉰 냄새가 나는데 어떻게 하면 되죠?</td>\n      <td>죄송합니다, 폐기처분 하고 새 빙수를 제조해드리겠습니다.</td>\n      <td>20591</td>\n      <td>20591</td>\n      <td>제품_불량_질문</td>\n    </tr>\n    <tr>\n      <th>2</th>\n      <td>마카롱 주문했는데 마카롱이 엄청 딱딱해요.</td>\n      <td>죄송합니다. 마카롱 다른걸로 다시 보내드리겠습니다.</td>\n      <td>66996</td>\n      <td>66996</td>\n      <td>제품_불량_질문</td>\n    </tr>\n    <tr>\n      <th>3</th>\n      <td>와플 지금 받았는데 너무 눅눅해서 못먹겠어요 이거 어떻게 하면 되나요?</td>\n      <td>죄송합니다, 불량 제품은 폐기해주시고 와플 재배송 해드리겠습니다.</td>\n      <td>20596</td>\n      <td>20596</td>\n      <td>제품_불량_질문</td>\n    </tr>\n    <tr>\n      <th>4</th>\n      <td>케이크에 생크림 모양이 너무 변형된 것 같은데 어떻게 하나요?</td>\n      <td>죄송합니다, 새 케이크로 포장해서 배송해드리겠습니다.</td>\n      <td>20586</td>\n      <td>20586</td>\n      <td>제품_불량_질문</td>\n    </tr>\n    <tr>\n      <th>...</th>\n      <td>...</td>\n      <td>...</td>\n      <td>...</td>\n      <td>...</td>\n      <td>...</td>\n    </tr>\n    <tr>\n      <th>75426</th>\n      <td>기프티콘으로 결제 가능한 거 맞죠?</td>\n      <td>네, 기프티콘 결제 가능합니다.</td>\n      <td>45461</td>\n      <td>45461</td>\n      <td>결제_수단_확인</td>\n    </tr>\n    <tr>\n      <th>75427</th>\n      <td>카카오페이로 결제 된거 맞죠?</td>\n      <td>네 카카오페이로 결제되셨습니다.</td>\n      <td>31251</td>\n      <td>31251</td>\n      <td>결제_수단_확인</td>\n    </tr>\n    <tr>\n      <th>75428</th>\n      <td>모바일상품권도 결제할 수 있어요?</td>\n      <td>죄송합니다, 모바일상품권은 사용이 어려우십니다.</td>\n      <td>6799</td>\n      <td>6799</td>\n      <td>결제_수단_확인</td>\n    </tr>\n    <tr>\n      <th>75429</th>\n      <td>기프티콘으로 음료 계산할 수 있는 거 맞죠?</td>\n      <td>네, 기프티콘으로 음료 계산 가능합니다.</td>\n      <td>10432</td>\n      <td>10432</td>\n      <td>결제_수단_확인</td>\n    </tr>\n    <tr>\n      <th>75430</th>\n      <td>후레쉬크림빵 포인트로 결제할 수 있는거죠?</td>\n      <td>네, 포인트로 결제가능합니다.</td>\n      <td>47312</td>\n      <td>47312</td>\n      <td>결제_수단_확인</td>\n    </tr>\n  </tbody>\n</table>\n<p>75431 rows × 5 columns</p>\n</div>"
     },
     "execution_count": 29,
     "metadata": {},
     "output_type": "execute_result"
    }
   ],
   "source": [
    "a_list = []\n",
    "a_2list = []\n",
    "category_list =[]\n",
    "\n",
    "b_list = []\n",
    "b_2list = []\n",
    "\n",
    "\n",
    "df_3 = pd.DataFrame()\n",
    "for i ,j in zip(df_len_0,df_len_1):\n",
    "    a = df.iloc[i]\n",
    "    a_1 = df.iloc[i+2]\n",
    "    b = df.iloc[j]\n",
    "\n",
    "    if a[5] == b[5] :\n",
    "        a_list.append(a[2])\n",
    "        a_2list.append(a[5])\n",
    "        category_list.append(a[3])\n",
    "\n",
    "        b_list.append(b[2])\n",
    "        b_2list.append(b[5])\n",
    "\n",
    "    elif  a[5] != b[5] :\n",
    "\n",
    "        if a_1[5] == b[5]:\n",
    "            a_list.append(b[2])\n",
    "            a_2list.append(b[5])\n",
    "            category_list.append(b[3])\n",
    "\n",
    "            b_list.append(a_1[2])\n",
    "            b_2list.append(a_1[5])\n",
    "\n",
    "\n",
    "            if i % 100 == 0:\n",
    "                print(a[0])\n",
    "# print(a_list)\n",
    "df_3['Q'] = a_list\n",
    "df_3['A'] = b_list\n",
    "df_3['Num_1'] = a_2list\n",
    "df_3['Num2'] = b_2list\n",
    "df_3['C'] =category_list\n",
    "\n",
    "df_3\n",
    "# df_3.to_csv('G:\\\\내 드라이브\\\\Watching_You_PJ\\\\project_ChatBot\\\\02_preprocessing\\\\cafe_train.csv',encoding='utf-8-sig')"
   ],
   "metadata": {
    "collapsed": false,
    "pycharm": {
     "name": "#%%\n"
    }
   }
  },
  {
   "cell_type": "code",
   "execution_count": 30,
   "outputs": [
    {
     "data": {
      "text/plain": "                                             Q  \\\n0                          고객님 혹시 무슨 문제 있으신가요?   \n1          빙수 위에 뿌려진 과일에서 쉰 냄새가 나는데 어떻게 하면 되죠?   \n2                      마카롱 주문했는데 마카롱이 엄청 딱딱해요.   \n3      와플 지금 받았는데 너무 눅눅해서 못먹겠어요 이거 어떻게 하면 되나요?   \n4           케이크에 생크림 모양이 너무 변형된 것 같은데 어떻게 하나요?   \n...                                        ...   \n75426                      기프티콘으로 결제 가능한 거 맞죠?   \n75427                         카카오페이로 결제 된거 맞죠?   \n75428                       모바일상품권도 결제할 수 있어요?   \n75429                 기프티콘으로 음료 계산할 수 있는 거 맞죠?   \n75430                  후레쉬크림빵 포인트로 결제할 수 있는거죠?   \n\n                                          A  Num_1   Num2         C  \n0                                    네 이상해요      5      5  제품_불량_질문  \n1           죄송합니다, 폐기처분 하고 새 빙수를 제조해드리겠습니다.  20591  20591  제품_불량_질문  \n2              죄송합니다. 마카롱 다른걸로 다시 보내드리겠습니다.  66996  66996  제품_불량_질문  \n3      죄송합니다, 불량 제품은 폐기해주시고 와플 재배송 해드리겠습니다.  20596  20596  제품_불량_질문  \n4             죄송합니다, 새 케이크로 포장해서 배송해드리겠습니다.  20586  20586  제품_불량_질문  \n...                                     ...    ...    ...       ...  \n75426                    네, 기프티콘 결제 가능합니다.   45461  45461  결제_수단_확인  \n75427                     네 카카오페이로 결제되셨습니다.  31251  31251  결제_수단_확인  \n75428            죄송합니다, 모바일상품권은 사용이 어려우십니다.   6799   6799  결제_수단_확인  \n75429                네, 기프티콘으로 음료 계산 가능합니다.  10432  10432  결제_수단_확인  \n75430                      네, 포인트로 결제가능합니다.  47312  47312  결제_수단_확인  \n\n[75431 rows x 5 columns]",
      "text/html": "<div>\n<style scoped>\n    .dataframe tbody tr th:only-of-type {\n        vertical-align: middle;\n    }\n\n    .dataframe tbody tr th {\n        vertical-align: top;\n    }\n\n    .dataframe thead th {\n        text-align: right;\n    }\n</style>\n<table border=\"1\" class=\"dataframe\">\n  <thead>\n    <tr style=\"text-align: right;\">\n      <th></th>\n      <th>Q</th>\n      <th>A</th>\n      <th>Num_1</th>\n      <th>Num2</th>\n      <th>C</th>\n    </tr>\n  </thead>\n  <tbody>\n    <tr>\n      <th>0</th>\n      <td>고객님 혹시 무슨 문제 있으신가요?</td>\n      <td>네 이상해요</td>\n      <td>5</td>\n      <td>5</td>\n      <td>제품_불량_질문</td>\n    </tr>\n    <tr>\n      <th>1</th>\n      <td>빙수 위에 뿌려진 과일에서 쉰 냄새가 나는데 어떻게 하면 되죠?</td>\n      <td>죄송합니다, 폐기처분 하고 새 빙수를 제조해드리겠습니다.</td>\n      <td>20591</td>\n      <td>20591</td>\n      <td>제품_불량_질문</td>\n    </tr>\n    <tr>\n      <th>2</th>\n      <td>마카롱 주문했는데 마카롱이 엄청 딱딱해요.</td>\n      <td>죄송합니다. 마카롱 다른걸로 다시 보내드리겠습니다.</td>\n      <td>66996</td>\n      <td>66996</td>\n      <td>제품_불량_질문</td>\n    </tr>\n    <tr>\n      <th>3</th>\n      <td>와플 지금 받았는데 너무 눅눅해서 못먹겠어요 이거 어떻게 하면 되나요?</td>\n      <td>죄송합니다, 불량 제품은 폐기해주시고 와플 재배송 해드리겠습니다.</td>\n      <td>20596</td>\n      <td>20596</td>\n      <td>제품_불량_질문</td>\n    </tr>\n    <tr>\n      <th>4</th>\n      <td>케이크에 생크림 모양이 너무 변형된 것 같은데 어떻게 하나요?</td>\n      <td>죄송합니다, 새 케이크로 포장해서 배송해드리겠습니다.</td>\n      <td>20586</td>\n      <td>20586</td>\n      <td>제품_불량_질문</td>\n    </tr>\n    <tr>\n      <th>...</th>\n      <td>...</td>\n      <td>...</td>\n      <td>...</td>\n      <td>...</td>\n      <td>...</td>\n    </tr>\n    <tr>\n      <th>75426</th>\n      <td>기프티콘으로 결제 가능한 거 맞죠?</td>\n      <td>네, 기프티콘 결제 가능합니다.</td>\n      <td>45461</td>\n      <td>45461</td>\n      <td>결제_수단_확인</td>\n    </tr>\n    <tr>\n      <th>75427</th>\n      <td>카카오페이로 결제 된거 맞죠?</td>\n      <td>네 카카오페이로 결제되셨습니다.</td>\n      <td>31251</td>\n      <td>31251</td>\n      <td>결제_수단_확인</td>\n    </tr>\n    <tr>\n      <th>75428</th>\n      <td>모바일상품권도 결제할 수 있어요?</td>\n      <td>죄송합니다, 모바일상품권은 사용이 어려우십니다.</td>\n      <td>6799</td>\n      <td>6799</td>\n      <td>결제_수단_확인</td>\n    </tr>\n    <tr>\n      <th>75429</th>\n      <td>기프티콘으로 음료 계산할 수 있는 거 맞죠?</td>\n      <td>네, 기프티콘으로 음료 계산 가능합니다.</td>\n      <td>10432</td>\n      <td>10432</td>\n      <td>결제_수단_확인</td>\n    </tr>\n    <tr>\n      <th>75430</th>\n      <td>후레쉬크림빵 포인트로 결제할 수 있는거죠?</td>\n      <td>네, 포인트로 결제가능합니다.</td>\n      <td>47312</td>\n      <td>47312</td>\n      <td>결제_수단_확인</td>\n    </tr>\n  </tbody>\n</table>\n<p>75431 rows × 5 columns</p>\n</div>"
     },
     "execution_count": 30,
     "metadata": {},
     "output_type": "execute_result"
    }
   ],
   "source": [
    "df_3"
   ],
   "metadata": {
    "collapsed": false,
    "pycharm": {
     "name": "#%%\n"
    }
   }
  },
  {
   "cell_type": "code",
   "execution_count": 31,
   "outputs": [
    {
     "data": {
      "text/plain": "75431"
     },
     "execution_count": 31,
     "metadata": {},
     "output_type": "execute_result"
    }
   ],
   "source": [
    "df_3_len = len(df_3)\n",
    "df_3_len"
   ],
   "metadata": {
    "collapsed": false,
    "pycharm": {
     "name": "#%%\n"
    }
   }
  },
  {
   "cell_type": "code",
   "execution_count": 32,
   "outputs": [],
   "source": [
    "C_Unique = df_3['C'].unique()\n"
   ],
   "metadata": {
    "collapsed": false,
    "pycharm": {
     "name": "#%%\n"
    }
   }
  },
  {
   "cell_type": "code",
   "execution_count": 33,
   "outputs": [],
   "source": [
    "C_2 = []\n",
    "for i in range(0,df_3_len):\n",
    "    a = df_3.iloc[i]\n",
    "    a = a[4]\n",
    "    a,b,c = a.split('_')\n",
    "    # category = a+\"_\"+b+\"_\"+'문의'\n",
    "    category = a+b+'문의'\n",
    "    C_2.append(category)\n",
    "    # if i % 1000 == 0:\n",
    "    #     print(a+b+'문의')\n",
    "df_3['C_2'] =C_2\n",
    "\n"
   ],
   "metadata": {
    "collapsed": false,
    "pycharm": {
     "name": "#%%\n"
    }
   }
  },
  {
   "cell_type": "code",
   "execution_count": 34,
   "outputs": [],
   "source": [
    "from sklearn.preprocessing import LabelEncoder"
   ],
   "metadata": {
    "collapsed": false,
    "pycharm": {
     "name": "#%%\n"
    }
   }
  },
  {
   "cell_type": "code",
   "execution_count": 35,
   "outputs": [
    {
     "data": {
      "text/plain": "                                             Q  \\\n0                          고객님 혹시 무슨 문제 있으신가요?   \n1          빙수 위에 뿌려진 과일에서 쉰 냄새가 나는데 어떻게 하면 되죠?   \n2                      마카롱 주문했는데 마카롱이 엄청 딱딱해요.   \n3      와플 지금 받았는데 너무 눅눅해서 못먹겠어요 이거 어떻게 하면 되나요?   \n4           케이크에 생크림 모양이 너무 변형된 것 같은데 어떻게 하나요?   \n...                                        ...   \n75426                      기프티콘으로 결제 가능한 거 맞죠?   \n75427                         카카오페이로 결제 된거 맞죠?   \n75428                       모바일상품권도 결제할 수 있어요?   \n75429                 기프티콘으로 음료 계산할 수 있는 거 맞죠?   \n75430                  후레쉬크림빵 포인트로 결제할 수 있는거죠?   \n\n                                          A     C_2   N  \n0                                    네 이상해요  제품불량문의  40  \n1           죄송합니다, 폐기처분 하고 새 빙수를 제조해드리겠습니다.  제품불량문의  40  \n2              죄송합니다. 마카롱 다른걸로 다시 보내드리겠습니다.  제품불량문의  40  \n3      죄송합니다, 불량 제품은 폐기해주시고 와플 재배송 해드리겠습니다.  제품불량문의  40  \n4             죄송합니다, 새 케이크로 포장해서 배송해드리겠습니다.  제품불량문의  40  \n...                                     ...     ...  ..  \n75426                    네, 기프티콘 결제 가능합니다.   결제수단문의   2  \n75427                     네 카카오페이로 결제되셨습니다.  결제수단문의   2  \n75428            죄송합니다, 모바일상품권은 사용이 어려우십니다.  결제수단문의   2  \n75429                네, 기프티콘으로 음료 계산 가능합니다.  결제수단문의   2  \n75430                      네, 포인트로 결제가능합니다.  결제수단문의   2  \n\n[75431 rows x 4 columns]",
      "text/html": "<div>\n<style scoped>\n    .dataframe tbody tr th:only-of-type {\n        vertical-align: middle;\n    }\n\n    .dataframe tbody tr th {\n        vertical-align: top;\n    }\n\n    .dataframe thead th {\n        text-align: right;\n    }\n</style>\n<table border=\"1\" class=\"dataframe\">\n  <thead>\n    <tr style=\"text-align: right;\">\n      <th></th>\n      <th>Q</th>\n      <th>A</th>\n      <th>C_2</th>\n      <th>N</th>\n    </tr>\n  </thead>\n  <tbody>\n    <tr>\n      <th>0</th>\n      <td>고객님 혹시 무슨 문제 있으신가요?</td>\n      <td>네 이상해요</td>\n      <td>제품불량문의</td>\n      <td>40</td>\n    </tr>\n    <tr>\n      <th>1</th>\n      <td>빙수 위에 뿌려진 과일에서 쉰 냄새가 나는데 어떻게 하면 되죠?</td>\n      <td>죄송합니다, 폐기처분 하고 새 빙수를 제조해드리겠습니다.</td>\n      <td>제품불량문의</td>\n      <td>40</td>\n    </tr>\n    <tr>\n      <th>2</th>\n      <td>마카롱 주문했는데 마카롱이 엄청 딱딱해요.</td>\n      <td>죄송합니다. 마카롱 다른걸로 다시 보내드리겠습니다.</td>\n      <td>제품불량문의</td>\n      <td>40</td>\n    </tr>\n    <tr>\n      <th>3</th>\n      <td>와플 지금 받았는데 너무 눅눅해서 못먹겠어요 이거 어떻게 하면 되나요?</td>\n      <td>죄송합니다, 불량 제품은 폐기해주시고 와플 재배송 해드리겠습니다.</td>\n      <td>제품불량문의</td>\n      <td>40</td>\n    </tr>\n    <tr>\n      <th>4</th>\n      <td>케이크에 생크림 모양이 너무 변형된 것 같은데 어떻게 하나요?</td>\n      <td>죄송합니다, 새 케이크로 포장해서 배송해드리겠습니다.</td>\n      <td>제품불량문의</td>\n      <td>40</td>\n    </tr>\n    <tr>\n      <th>...</th>\n      <td>...</td>\n      <td>...</td>\n      <td>...</td>\n      <td>...</td>\n    </tr>\n    <tr>\n      <th>75426</th>\n      <td>기프티콘으로 결제 가능한 거 맞죠?</td>\n      <td>네, 기프티콘 결제 가능합니다.</td>\n      <td>결제수단문의</td>\n      <td>2</td>\n    </tr>\n    <tr>\n      <th>75427</th>\n      <td>카카오페이로 결제 된거 맞죠?</td>\n      <td>네 카카오페이로 결제되셨습니다.</td>\n      <td>결제수단문의</td>\n      <td>2</td>\n    </tr>\n    <tr>\n      <th>75428</th>\n      <td>모바일상품권도 결제할 수 있어요?</td>\n      <td>죄송합니다, 모바일상품권은 사용이 어려우십니다.</td>\n      <td>결제수단문의</td>\n      <td>2</td>\n    </tr>\n    <tr>\n      <th>75429</th>\n      <td>기프티콘으로 음료 계산할 수 있는 거 맞죠?</td>\n      <td>네, 기프티콘으로 음료 계산 가능합니다.</td>\n      <td>결제수단문의</td>\n      <td>2</td>\n    </tr>\n    <tr>\n      <th>75430</th>\n      <td>후레쉬크림빵 포인트로 결제할 수 있는거죠?</td>\n      <td>네, 포인트로 결제가능합니다.</td>\n      <td>결제수단문의</td>\n      <td>2</td>\n    </tr>\n  </tbody>\n</table>\n<p>75431 rows × 4 columns</p>\n</div>"
     },
     "execution_count": 35,
     "metadata": {},
     "output_type": "execute_result"
    }
   ],
   "source": [
    "le = LabelEncoder()\n",
    "result = le.fit_transform(df_3['C_2'])\n",
    "df_3['N'] = result\n",
    "\n",
    "df_3 = df_3[['Q','A','C_2','N']]\n",
    "df_3"
   ],
   "metadata": {
    "collapsed": false,
    "pycharm": {
     "name": "#%%\n"
    }
   }
  },
  {
   "cell_type": "code",
   "execution_count": 36,
   "outputs": [
    {
     "name": "stderr",
     "output_type": "stream",
     "text": [
      "C:\\Users\\SteveLee\\AppData\\Roaming\\Python\\Python37\\site-packages\\pandas\\core\\frame.py:5047: SettingWithCopyWarning: \n",
      "A value is trying to be set on a copy of a slice from a DataFrame\n",
      "\n",
      "See the caveats in the documentation: https://pandas.pydata.org/pandas-docs/stable/user_guide/indexing.html#returning-a-view-versus-a-copy\n",
      "  errors=errors,\n"
     ]
    }
   ],
   "source": [
    "df_3.rename(columns= {\"C_2\":\"C\"},inplace=True)\n",
    "df_3.to_csv('G:\\\\내 드라이브\\\\Watching_You_PJ\\\\project_ChatBot\\\\02_preprocessing\\\\cafe_train_gpt.csv'\n",
    "            ,encoding='utf-8-sig',index=False)"
   ],
   "metadata": {
    "collapsed": false,
    "pycharm": {
     "name": "#%%\n"
    }
   }
  },
  {
   "cell_type": "code",
   "execution_count": 36,
   "outputs": [],
   "source": [],
   "metadata": {
    "collapsed": false,
    "pycharm": {
     "name": "#%%\n"
    }
   }
  },
  {
   "cell_type": "code",
   "execution_count": 37,
   "outputs": [],
   "source": [
    "df_3.rename(columns= {\"C_2\":\"C\"},inplace=True)\n",
    "df_4 = df_3[['Q','C','N']]\n",
    "df_4\n",
    "df_4.to_csv('G:\\\\내 드라이브\\\\Watching_You_PJ\\\\project_ChatBot\\\\02_preprocessing\\\\cafe_train_bert_2.csv'\n",
    "            ,encoding='utf-8-sig',index=False)"
   ],
   "metadata": {
    "collapsed": false,
    "pycharm": {
     "name": "#%%\n"
    }
   }
  },
  {
   "cell_type": "code",
   "execution_count": 38,
   "outputs": [
    {
     "name": "stderr",
     "output_type": "stream",
     "text": [
      "C:\\Anaconda\\envs\\music_category_classification\\lib\\site-packages\\ipykernel_launcher.py:2: SettingWithCopyWarning: \n",
      "A value is trying to be set on a copy of a slice from a DataFrame.\n",
      "Try using .loc[row_indexer,col_indexer] = value instead\n",
      "\n",
      "See the caveats in the documentation: https://pandas.pydata.org/pandas-docs/stable/user_guide/indexing.html#returning-a-view-versus-a-copy\n",
      "  \n"
     ]
    },
    {
     "data": {
      "text/plain": "                                   Q       C   N\n0                     고객님혹시무슨문제있으신가요  제품불량문의  40\n1          빙수위에뿌려진과일에서쉰냄새가나는데어떻게하면되죠  제품불량문의  40\n2                 마카롱주문했는데마카롱이엄청딱딱해요  제품불량문의  40\n3      와플지금받았는데너무눅눅해서못먹겠어요이거어떻게하면되나요  제품불량문의  40\n4          케이크에생크림모양이너무변형된것같은데어떻게하나요  제품불량문의  40\n...                              ...     ...  ..\n75426                 기프티콘으로결제가능한거맞죠  결제수단문의   2\n75427                   카카오페이로결제된거맞죠  결제수단문의   2\n75428                 모바일상품권도결제할수있어요  결제수단문의   2\n75429              기프티콘으로음료계산할수있는거맞죠  결제수단문의   2\n75430             후레쉬크림빵포인트로결제할수있는거죠  결제수단문의   2\n\n[75431 rows x 3 columns]",
      "text/html": "<div>\n<style scoped>\n    .dataframe tbody tr th:only-of-type {\n        vertical-align: middle;\n    }\n\n    .dataframe tbody tr th {\n        vertical-align: top;\n    }\n\n    .dataframe thead th {\n        text-align: right;\n    }\n</style>\n<table border=\"1\" class=\"dataframe\">\n  <thead>\n    <tr style=\"text-align: right;\">\n      <th></th>\n      <th>Q</th>\n      <th>C</th>\n      <th>N</th>\n    </tr>\n  </thead>\n  <tbody>\n    <tr>\n      <th>0</th>\n      <td>고객님혹시무슨문제있으신가요</td>\n      <td>제품불량문의</td>\n      <td>40</td>\n    </tr>\n    <tr>\n      <th>1</th>\n      <td>빙수위에뿌려진과일에서쉰냄새가나는데어떻게하면되죠</td>\n      <td>제품불량문의</td>\n      <td>40</td>\n    </tr>\n    <tr>\n      <th>2</th>\n      <td>마카롱주문했는데마카롱이엄청딱딱해요</td>\n      <td>제품불량문의</td>\n      <td>40</td>\n    </tr>\n    <tr>\n      <th>3</th>\n      <td>와플지금받았는데너무눅눅해서못먹겠어요이거어떻게하면되나요</td>\n      <td>제품불량문의</td>\n      <td>40</td>\n    </tr>\n    <tr>\n      <th>4</th>\n      <td>케이크에생크림모양이너무변형된것같은데어떻게하나요</td>\n      <td>제품불량문의</td>\n      <td>40</td>\n    </tr>\n    <tr>\n      <th>...</th>\n      <td>...</td>\n      <td>...</td>\n      <td>...</td>\n    </tr>\n    <tr>\n      <th>75426</th>\n      <td>기프티콘으로결제가능한거맞죠</td>\n      <td>결제수단문의</td>\n      <td>2</td>\n    </tr>\n    <tr>\n      <th>75427</th>\n      <td>카카오페이로결제된거맞죠</td>\n      <td>결제수단문의</td>\n      <td>2</td>\n    </tr>\n    <tr>\n      <th>75428</th>\n      <td>모바일상품권도결제할수있어요</td>\n      <td>결제수단문의</td>\n      <td>2</td>\n    </tr>\n    <tr>\n      <th>75429</th>\n      <td>기프티콘으로음료계산할수있는거맞죠</td>\n      <td>결제수단문의</td>\n      <td>2</td>\n    </tr>\n    <tr>\n      <th>75430</th>\n      <td>후레쉬크림빵포인트로결제할수있는거죠</td>\n      <td>결제수단문의</td>\n      <td>2</td>\n    </tr>\n  </tbody>\n</table>\n<p>75431 rows × 3 columns</p>\n</div>"
     },
     "execution_count": 38,
     "metadata": {},
     "output_type": "execute_result"
    }
   ],
   "source": [
    "df_4\n",
    "df_4[\"Q\"] = df_4[\"Q\"].str.replace(pat=r'[^\\w]', repl=r'', regex=True)\n",
    "df_4"
   ],
   "metadata": {
    "collapsed": false,
    "pycharm": {
     "name": "#%%\n"
    }
   }
  },
  {
   "cell_type": "code",
   "execution_count": 39,
   "outputs": [],
   "source": [
    "df_4.to_csv('G:\\\\내 드라이브\\\\Watching_You_PJ\\\\project_ChatBot\\\\02_preprocessing\\\\cafe_train_bert_2.csv'\n",
    "            ,encoding='utf-8-sig',index=False)"
   ],
   "metadata": {
    "collapsed": false,
    "pycharm": {
     "name": "#%%\n"
    }
   }
  },
  {
   "cell_type": "code",
   "execution_count": 39,
   "outputs": [],
   "source": [],
   "metadata": {
    "collapsed": false,
    "pycharm": {
     "name": "#%%\n"
    }
   }
  }
 ],
 "metadata": {
  "kernelspec": {
   "display_name": "Python 3",
   "language": "python",
   "name": "python3"
  },
  "language_info": {
   "codemirror_mode": {
    "name": "ipython",
    "version": 2
   },
   "file_extension": ".py",
   "mimetype": "text/x-python",
   "name": "python",
   "nbconvert_exporter": "python",
   "pygments_lexer": "ipython2",
   "version": "2.7.6"
  }
 },
 "nbformat": 4,
 "nbformat_minor": 0
}