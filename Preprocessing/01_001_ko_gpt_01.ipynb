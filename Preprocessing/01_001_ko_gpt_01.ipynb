{
 "cells": [
  {
   "cell_type": "code",
   "execution_count": 1,
   "metadata": {
    "collapsed": true,
    "pycharm": {
     "name": "#%%\n"
    }
   },
   "outputs": [],
   "source": [
    "import numpy as np\n",
    "import pandas as pd"
   ]
  },
  {
   "cell_type": "code",
   "execution_count": 2,
   "outputs": [
    {
     "name": "stdout",
     "output_type": "stream",
     "text": [
      "<class 'pandas.core.frame.DataFrame'>\n",
      "RangeIndex: 7168 entries, 0 to 7167\n",
      "Data columns (total 4 columns):\n",
      " #   Column    Non-Null Count  Dtype \n",
      "---  ------    --------------  ----- \n",
      " 0   SPEAKER   7168 non-null   object\n",
      " 1   SENTENCE  7168 non-null   object\n",
      " 2   MAIN      7168 non-null   object\n",
      " 3   QA        7168 non-null   object\n",
      "dtypes: object(4)\n",
      "memory usage: 224.1+ KB\n"
     ]
    }
   ],
   "source": [
    "df = pd.read_csv('G:\\\\내 드라이브\\\\Watching_You_PJ\\\\project_ChatBot\\\\02_preprocessing\\\\01_001_Cleaned_Data.csv')\n",
    "\n",
    "df_len  = len(df)\n",
    "\n",
    "df.info()"
   ],
   "metadata": {
    "collapsed": false,
    "pycharm": {
     "name": "#%%\n"
    }
   }
  },
  {
   "cell_type": "code",
   "execution_count": 3,
   "outputs": [
    {
     "data": {
      "text/plain": "     SPEAKER                                 SENTENCE   MAIN QA\n0         고객                             아이스아메리카노 하나요   일반주문  Q\n1         점원                             테이크아웃하실 건가요?   일반주문  Q\n2         고객                             네 텀블러에 넣어주세요  텀블러사용  Q\n3         점원                        텀블러 할인 300원 해드릴게요  텀블러사용  A\n4         고객                             그란데 사이즈로 주세요   일반주문  Q\n...      ...                                      ...    ... ..\n7163      점원                             현금 영수증 맞으세요?  영수증요청  Q\n7164      고객                            아니요, 그냥 영수증이요  영수증요청  A\n7165      점원                               네, 여기 드릴게요  영수증요청  A\n7166      고객                         차는 어디에 세울 수 있어요?   주차문의  Q\n7167      점원  주차장은 따로 없고 타워 맞은편 주차 라인이나 상가 앞에 세우셔야 해요   주차문의  A\n\n[7168 rows x 4 columns]",
      "text/html": "<div>\n<style scoped>\n    .dataframe tbody tr th:only-of-type {\n        vertical-align: middle;\n    }\n\n    .dataframe tbody tr th {\n        vertical-align: top;\n    }\n\n    .dataframe thead th {\n        text-align: right;\n    }\n</style>\n<table border=\"1\" class=\"dataframe\">\n  <thead>\n    <tr style=\"text-align: right;\">\n      <th></th>\n      <th>SPEAKER</th>\n      <th>SENTENCE</th>\n      <th>MAIN</th>\n      <th>QA</th>\n    </tr>\n  </thead>\n  <tbody>\n    <tr>\n      <th>0</th>\n      <td>고객</td>\n      <td>아이스아메리카노 하나요</td>\n      <td>일반주문</td>\n      <td>Q</td>\n    </tr>\n    <tr>\n      <th>1</th>\n      <td>점원</td>\n      <td>테이크아웃하실 건가요?</td>\n      <td>일반주문</td>\n      <td>Q</td>\n    </tr>\n    <tr>\n      <th>2</th>\n      <td>고객</td>\n      <td>네 텀블러에 넣어주세요</td>\n      <td>텀블러사용</td>\n      <td>Q</td>\n    </tr>\n    <tr>\n      <th>3</th>\n      <td>점원</td>\n      <td>텀블러 할인 300원 해드릴게요</td>\n      <td>텀블러사용</td>\n      <td>A</td>\n    </tr>\n    <tr>\n      <th>4</th>\n      <td>고객</td>\n      <td>그란데 사이즈로 주세요</td>\n      <td>일반주문</td>\n      <td>Q</td>\n    </tr>\n    <tr>\n      <th>...</th>\n      <td>...</td>\n      <td>...</td>\n      <td>...</td>\n      <td>...</td>\n    </tr>\n    <tr>\n      <th>7163</th>\n      <td>점원</td>\n      <td>현금 영수증 맞으세요?</td>\n      <td>영수증요청</td>\n      <td>Q</td>\n    </tr>\n    <tr>\n      <th>7164</th>\n      <td>고객</td>\n      <td>아니요, 그냥 영수증이요</td>\n      <td>영수증요청</td>\n      <td>A</td>\n    </tr>\n    <tr>\n      <th>7165</th>\n      <td>점원</td>\n      <td>네, 여기 드릴게요</td>\n      <td>영수증요청</td>\n      <td>A</td>\n    </tr>\n    <tr>\n      <th>7166</th>\n      <td>고객</td>\n      <td>차는 어디에 세울 수 있어요?</td>\n      <td>주차문의</td>\n      <td>Q</td>\n    </tr>\n    <tr>\n      <th>7167</th>\n      <td>점원</td>\n      <td>주차장은 따로 없고 타워 맞은편 주차 라인이나 상가 앞에 세우셔야 해요</td>\n      <td>주차문의</td>\n      <td>A</td>\n    </tr>\n  </tbody>\n</table>\n<p>7168 rows × 4 columns</p>\n</div>"
     },
     "execution_count": 3,
     "metadata": {},
     "output_type": "execute_result"
    }
   ],
   "source": [
    "df"
   ],
   "metadata": {
    "collapsed": false,
    "pycharm": {
     "name": "#%%\n"
    }
   }
  },
  {
   "cell_type": "code",
   "execution_count": 4,
   "outputs": [
    {
     "data": {
      "text/plain": "                          Q                                        A  \\\n0              아이스아메리카노 하나요                             테이크아웃하실 건가요?   \n1              네 텀블러에 넣어주세요                        텀블러 할인 300원 해드릴게요   \n2              그란데 사이즈로 주세요                               적립카드 있으세요?   \n3            네 보고쿠폰으로 결제할게요                             현금영수증 해드릴까요?   \n4                     괜찮습니다                          저쪽에서 잠시만 대기해주세요   \n...                     ...                                      ...   \n3579  약간 산미 나는 걸로 한 잔 주실래요?                         가지고 가시면 2000원이에요   \n3580           마시고 가면 얼마예요?                         드시고 가시면 3000원이에요   \n3581           영수증 하나 주실래요?                             현금 영수증 맞으세요?   \n3582          아니요, 그냥 영수증이요                               네, 여기 드릴게요   \n3583       차는 어디에 세울 수 있어요?  주차장은 따로 없고 타워 맞은편 주차 라인이나 상가 앞에 세우셔야 해요   \n\n              C  \n0          일반주문  \n1         텀블러사용  \n2          일반주문  \n3     쿠폰멤버십적립문의  \n4       현금영수증요청  \n...         ...  \n3579       일반주문  \n3580       일반주문  \n3581      영수증요청  \n3582      영수증요청  \n3583       주차문의  \n\n[3584 rows x 3 columns]",
      "text/html": "<div>\n<style scoped>\n    .dataframe tbody tr th:only-of-type {\n        vertical-align: middle;\n    }\n\n    .dataframe tbody tr th {\n        vertical-align: top;\n    }\n\n    .dataframe thead th {\n        text-align: right;\n    }\n</style>\n<table border=\"1\" class=\"dataframe\">\n  <thead>\n    <tr style=\"text-align: right;\">\n      <th></th>\n      <th>Q</th>\n      <th>A</th>\n      <th>C</th>\n    </tr>\n  </thead>\n  <tbody>\n    <tr>\n      <th>0</th>\n      <td>아이스아메리카노 하나요</td>\n      <td>테이크아웃하실 건가요?</td>\n      <td>일반주문</td>\n    </tr>\n    <tr>\n      <th>1</th>\n      <td>네 텀블러에 넣어주세요</td>\n      <td>텀블러 할인 300원 해드릴게요</td>\n      <td>텀블러사용</td>\n    </tr>\n    <tr>\n      <th>2</th>\n      <td>그란데 사이즈로 주세요</td>\n      <td>적립카드 있으세요?</td>\n      <td>일반주문</td>\n    </tr>\n    <tr>\n      <th>3</th>\n      <td>네 보고쿠폰으로 결제할게요</td>\n      <td>현금영수증 해드릴까요?</td>\n      <td>쿠폰멤버십적립문의</td>\n    </tr>\n    <tr>\n      <th>4</th>\n      <td>괜찮습니다</td>\n      <td>저쪽에서 잠시만 대기해주세요</td>\n      <td>현금영수증요청</td>\n    </tr>\n    <tr>\n      <th>...</th>\n      <td>...</td>\n      <td>...</td>\n      <td>...</td>\n    </tr>\n    <tr>\n      <th>3579</th>\n      <td>약간 산미 나는 걸로 한 잔 주실래요?</td>\n      <td>가지고 가시면 2000원이에요</td>\n      <td>일반주문</td>\n    </tr>\n    <tr>\n      <th>3580</th>\n      <td>마시고 가면 얼마예요?</td>\n      <td>드시고 가시면 3000원이에요</td>\n      <td>일반주문</td>\n    </tr>\n    <tr>\n      <th>3581</th>\n      <td>영수증 하나 주실래요?</td>\n      <td>현금 영수증 맞으세요?</td>\n      <td>영수증요청</td>\n    </tr>\n    <tr>\n      <th>3582</th>\n      <td>아니요, 그냥 영수증이요</td>\n      <td>네, 여기 드릴게요</td>\n      <td>영수증요청</td>\n    </tr>\n    <tr>\n      <th>3583</th>\n      <td>차는 어디에 세울 수 있어요?</td>\n      <td>주차장은 따로 없고 타워 맞은편 주차 라인이나 상가 앞에 세우셔야 해요</td>\n      <td>주차문의</td>\n    </tr>\n  </tbody>\n</table>\n<p>3584 rows × 3 columns</p>\n</div>"
     },
     "execution_count": 4,
     "metadata": {},
     "output_type": "execute_result"
    }
   ],
   "source": [
    "df3 = []\n",
    "df3_2 = []\n",
    "\n",
    "for i in range(0,df_len,2):\n",
    "    a = df.iloc[i]\n",
    "    df3.append(a)\n",
    "for i in range(1,df_len,2):\n",
    "    b = df.iloc[i]\n",
    "    df3_2.append(b)\n",
    "\n",
    "df4 = pd.DataFrame(df3)\n",
    "q = df4['SENTENCE'].tolist()\n",
    "c = df4['MAIN'].tolist()\n",
    "\n",
    "df4_1 = pd.DataFrame(df3_2)\n",
    "a = df4_1['SENTENCE'].tolist()\n",
    "\n",
    "df_result = pd.DataFrame()\n",
    "\n",
    "df_result['Q'] = q\n",
    "df_result['A'] = a\n",
    "df_result['C'] = c\n",
    "\n",
    "df_result\n"
   ],
   "metadata": {
    "collapsed": false,
    "pycharm": {
     "name": "#%%\n"
    }
   }
  },
  {
   "cell_type": "code",
   "execution_count": 5,
   "outputs": [
    {
     "data": {
      "text/plain": "                          Q                                        A  \\\n0              아이스아메리카노 하나요                             테이크아웃하실 건가요?   \n1              네 텀블러에 넣어주세요                        텀블러 할인 300원 해드릴게요   \n2              그란데 사이즈로 주세요                               적립카드 있으세요?   \n3            네 보고쿠폰으로 결제할게요                             현금영수증 해드릴까요?   \n4                     괜찮습니다                          저쪽에서 잠시만 대기해주세요   \n...                     ...                                      ...   \n3579  약간 산미 나는 걸로 한 잔 주실래요?                         가지고 가시면 2000원이에요   \n3580           마시고 가면 얼마예요?                         드시고 가시면 3000원이에요   \n3581           영수증 하나 주실래요?                             현금 영수증 맞으세요?   \n3582          아니요, 그냥 영수증이요                               네, 여기 드릴게요   \n3583       차는 어디에 세울 수 있어요?  주차장은 따로 없고 타워 맞은편 주차 라인이나 상가 앞에 세우셔야 해요   \n\n              C  \n0          일반주문  \n1         텀블러사용  \n2          일반주문  \n3     쿠폰멤버십적립문의  \n4       현금영수증요청  \n...         ...  \n3579       일반주문  \n3580       일반주문  \n3581      영수증요청  \n3582      영수증요청  \n3583       주차문의  \n\n[3584 rows x 3 columns]",
      "text/html": "<div>\n<style scoped>\n    .dataframe tbody tr th:only-of-type {\n        vertical-align: middle;\n    }\n\n    .dataframe tbody tr th {\n        vertical-align: top;\n    }\n\n    .dataframe thead th {\n        text-align: right;\n    }\n</style>\n<table border=\"1\" class=\"dataframe\">\n  <thead>\n    <tr style=\"text-align: right;\">\n      <th></th>\n      <th>Q</th>\n      <th>A</th>\n      <th>C</th>\n    </tr>\n  </thead>\n  <tbody>\n    <tr>\n      <th>0</th>\n      <td>아이스아메리카노 하나요</td>\n      <td>테이크아웃하실 건가요?</td>\n      <td>일반주문</td>\n    </tr>\n    <tr>\n      <th>1</th>\n      <td>네 텀블러에 넣어주세요</td>\n      <td>텀블러 할인 300원 해드릴게요</td>\n      <td>텀블러사용</td>\n    </tr>\n    <tr>\n      <th>2</th>\n      <td>그란데 사이즈로 주세요</td>\n      <td>적립카드 있으세요?</td>\n      <td>일반주문</td>\n    </tr>\n    <tr>\n      <th>3</th>\n      <td>네 보고쿠폰으로 결제할게요</td>\n      <td>현금영수증 해드릴까요?</td>\n      <td>쿠폰멤버십적립문의</td>\n    </tr>\n    <tr>\n      <th>4</th>\n      <td>괜찮습니다</td>\n      <td>저쪽에서 잠시만 대기해주세요</td>\n      <td>현금영수증요청</td>\n    </tr>\n    <tr>\n      <th>...</th>\n      <td>...</td>\n      <td>...</td>\n      <td>...</td>\n    </tr>\n    <tr>\n      <th>3579</th>\n      <td>약간 산미 나는 걸로 한 잔 주실래요?</td>\n      <td>가지고 가시면 2000원이에요</td>\n      <td>일반주문</td>\n    </tr>\n    <tr>\n      <th>3580</th>\n      <td>마시고 가면 얼마예요?</td>\n      <td>드시고 가시면 3000원이에요</td>\n      <td>일반주문</td>\n    </tr>\n    <tr>\n      <th>3581</th>\n      <td>영수증 하나 주실래요?</td>\n      <td>현금 영수증 맞으세요?</td>\n      <td>영수증요청</td>\n    </tr>\n    <tr>\n      <th>3582</th>\n      <td>아니요, 그냥 영수증이요</td>\n      <td>네, 여기 드릴게요</td>\n      <td>영수증요청</td>\n    </tr>\n    <tr>\n      <th>3583</th>\n      <td>차는 어디에 세울 수 있어요?</td>\n      <td>주차장은 따로 없고 타워 맞은편 주차 라인이나 상가 앞에 세우셔야 해요</td>\n      <td>주차문의</td>\n    </tr>\n  </tbody>\n</table>\n<p>3584 rows × 3 columns</p>\n</div>"
     },
     "execution_count": 5,
     "metadata": {},
     "output_type": "execute_result"
    }
   ],
   "source": [
    "df_result"
   ],
   "metadata": {
    "collapsed": false,
    "pycharm": {
     "name": "#%%\n"
    }
   }
  },
  {
   "cell_type": "code",
   "execution_count": 6,
   "outputs": [
    {
     "name": "stdout",
     "output_type": "stream",
     "text": [
      "['일반주문', '텀블러사용', '쿠폰멤버십적립문의', '현금영수증요청', '결제요청', '기프티콘쿠폰멤버십사용문의', '남은음료테이크아웃문의', '조리요구', '메뉴추천요구', '기프티콘쿠폰멤버십결제요구', '화장실위치문의', '메뉴문의', '기타문의', '할인요청', '픽업문의', '와이파이문의', '계절메뉴주문문의', '배달문의', '콘센트자리문의', '에스프레소샷개수요구', '재료문의', '쿠폰문의', '자리여부문의', '빵종류문의', '가격문의', '사이즈문의', '테이크아웃요구', '제조시간문의', '사이즈요구', '메뉴추가주문', '텀블러할인문의', '모바일페이결제', '물우유량요구', '영업시간문의', '캐리어요구', '매장내에서일회용사용문의', '1인1잔문의', '특정재료첨삭요구', '테이크아웃문의', '시럽설탕요구', '옵션추가요구', '메뉴추가문의', '주문가능여부문의', '기프티콘쿠폰멤버십메뉴변경문의', '우유변경', '시설문의', '냅킨물티슈요구', '영수증요청', '식기류요구', '매장이용문의', '음식이주문과다른경우', '냉방조절', '얼음량요구', '결제문의', '물품위치문의', '단체주문문의', '주문내용변경', '주차문의', '서빙요구', '할인문의', '특정원두요구', '포인트충전', '주변시설', '늘먹던음료요구', '단골손님임을주장', '음료온도요구', '뜨거운차가운물요구', '머그컵요구', '현금영수증문의', '영수증버리기', '냅킵물티슈요구', '신메뉴문의', '단체석문의', '핸드폰번호이용적립', '메뉴판요구', '핸드폰충전요청', '제조방법', '주차권주차도장요구', '얼음요구', '시식요청', '음식에이물질이있는경우', '화장실비밀번호문의', '분할결제', '일회용컵요구', '화장실휴지비치문의', 'MD제품문의', '주문취소', '리필문의', '빨대', '기프티콘쿠폰멤버실결제요구', '메뉴가나오는것을재촉하는상황', '휴일문의', '더치커피티백판매문의', '계열사문의', '메뉴판문의', '컵요구', '애완견출입문의', '원두인스턴트커피로스팅문의', '일회용포크나이프요구', '카드결제(카드오류상황)', '주문가능여부', '식기류쟁반반납', '휴지요구', '보관방법문의', '화장실이용문의', '영수증문의', '테이크아웃할인문의', '이벤트문의', '물티슈요구', '체인점문의', '음료온도문의', '베이커리제조문의', '인터넷판매문의', '테이크아웃용기요청', '옵션추가문의', '남은커피가루문의', '에스프레소샷개수문의', '테이크아웃용기추가금액문의', '인기메뉴문의', '원두원산지문의', '테이카아웃요구', '샷토핑추가시추가금액문의', '시럽요구', '시럽', '베이커리정보문의', '물물컵', '납품문의', '판매여부문의']\n",
      "3584\n"
     ]
    },
    {
     "data": {
      "text/plain": "                          Q                                        A  \\\n0              아이스아메리카노 하나요                             테이크아웃하실 건가요?   \n1              네 텀블러에 넣어주세요                        텀블러 할인 300원 해드릴게요   \n2              그란데 사이즈로 주세요                               적립카드 있으세요?   \n3            네 보고쿠폰으로 결제할게요                             현금영수증 해드릴까요?   \n4                     괜찮습니다                          저쪽에서 잠시만 대기해주세요   \n...                     ...                                      ...   \n3579  약간 산미 나는 걸로 한 잔 주실래요?                         가지고 가시면 2000원이에요   \n3580           마시고 가면 얼마예요?                         드시고 가시면 3000원이에요   \n3581           영수증 하나 주실래요?                             현금 영수증 맞으세요?   \n3582          아니요, 그냥 영수증이요                               네, 여기 드릴게요   \n3583       차는 어디에 세울 수 있어요?  주차장은 따로 없고 타워 맞은편 주차 라인이나 상가 앞에 세우셔야 해요   \n\n              C  num  \n0          일반주문    0  \n1         텀블러사용    1  \n2          일반주문    0  \n3     쿠폰멤버십적립문의    2  \n4       현금영수증요청    3  \n...         ...  ...  \n3579       일반주문    0  \n3580       일반주문    0  \n3581      영수증요청   47  \n3582      영수증요청   47  \n3583       주차문의   57  \n\n[3584 rows x 4 columns]",
      "text/html": "<div>\n<style scoped>\n    .dataframe tbody tr th:only-of-type {\n        vertical-align: middle;\n    }\n\n    .dataframe tbody tr th {\n        vertical-align: top;\n    }\n\n    .dataframe thead th {\n        text-align: right;\n    }\n</style>\n<table border=\"1\" class=\"dataframe\">\n  <thead>\n    <tr style=\"text-align: right;\">\n      <th></th>\n      <th>Q</th>\n      <th>A</th>\n      <th>C</th>\n      <th>num</th>\n    </tr>\n  </thead>\n  <tbody>\n    <tr>\n      <th>0</th>\n      <td>아이스아메리카노 하나요</td>\n      <td>테이크아웃하실 건가요?</td>\n      <td>일반주문</td>\n      <td>0</td>\n    </tr>\n    <tr>\n      <th>1</th>\n      <td>네 텀블러에 넣어주세요</td>\n      <td>텀블러 할인 300원 해드릴게요</td>\n      <td>텀블러사용</td>\n      <td>1</td>\n    </tr>\n    <tr>\n      <th>2</th>\n      <td>그란데 사이즈로 주세요</td>\n      <td>적립카드 있으세요?</td>\n      <td>일반주문</td>\n      <td>0</td>\n    </tr>\n    <tr>\n      <th>3</th>\n      <td>네 보고쿠폰으로 결제할게요</td>\n      <td>현금영수증 해드릴까요?</td>\n      <td>쿠폰멤버십적립문의</td>\n      <td>2</td>\n    </tr>\n    <tr>\n      <th>4</th>\n      <td>괜찮습니다</td>\n      <td>저쪽에서 잠시만 대기해주세요</td>\n      <td>현금영수증요청</td>\n      <td>3</td>\n    </tr>\n    <tr>\n      <th>...</th>\n      <td>...</td>\n      <td>...</td>\n      <td>...</td>\n      <td>...</td>\n    </tr>\n    <tr>\n      <th>3579</th>\n      <td>약간 산미 나는 걸로 한 잔 주실래요?</td>\n      <td>가지고 가시면 2000원이에요</td>\n      <td>일반주문</td>\n      <td>0</td>\n    </tr>\n    <tr>\n      <th>3580</th>\n      <td>마시고 가면 얼마예요?</td>\n      <td>드시고 가시면 3000원이에요</td>\n      <td>일반주문</td>\n      <td>0</td>\n    </tr>\n    <tr>\n      <th>3581</th>\n      <td>영수증 하나 주실래요?</td>\n      <td>현금 영수증 맞으세요?</td>\n      <td>영수증요청</td>\n      <td>47</td>\n    </tr>\n    <tr>\n      <th>3582</th>\n      <td>아니요, 그냥 영수증이요</td>\n      <td>네, 여기 드릴게요</td>\n      <td>영수증요청</td>\n      <td>47</td>\n    </tr>\n    <tr>\n      <th>3583</th>\n      <td>차는 어디에 세울 수 있어요?</td>\n      <td>주차장은 따로 없고 타워 맞은편 주차 라인이나 상가 앞에 세우셔야 해요</td>\n      <td>주차문의</td>\n      <td>57</td>\n    </tr>\n  </tbody>\n</table>\n<p>3584 rows × 4 columns</p>\n</div>"
     },
     "execution_count": 6,
     "metadata": {},
     "output_type": "execute_result"
    }
   ],
   "source": [
    "\n",
    "category_list = list(df_result['C'].unique())\n",
    "print(category_list)\n",
    "num = []\n",
    "for i in df_result['C']:\n",
    "  for k in category_list:\n",
    "    if i == k:\n",
    "      num.append(category_list.index(k))\n",
    "print(len(num))\n",
    "\n",
    "df_result['num'] = num\n",
    "df_result.to_csv('G:\\\\내 드라이브\\\\Watching_You_PJ\\\\project_ChatBot\\\\02_preprocessing\\\\01_001_gpt.csv',index=False)\n",
    "df_result"
   ],
   "metadata": {
    "collapsed": false,
    "pycharm": {
     "name": "#%%\n"
    }
   }
  },
  {
   "cell_type": "code",
   "execution_count": 112,
   "outputs": [],
   "source": [],
   "metadata": {
    "collapsed": false,
    "pycharm": {
     "name": "#%%\n"
    }
   }
  }
 ],
 "metadata": {
  "kernelspec": {
   "display_name": "Python 3",
   "language": "python",
   "name": "python3"
  },
  "language_info": {
   "codemirror_mode": {
    "name": "ipython",
    "version": 2
   },
   "file_extension": ".py",
   "mimetype": "text/x-python",
   "name": "python",
   "nbconvert_exporter": "python",
   "pygments_lexer": "ipython2",
   "version": "2.7.6"
  }
 },
 "nbformat": 4,
 "nbformat_minor": 0
}