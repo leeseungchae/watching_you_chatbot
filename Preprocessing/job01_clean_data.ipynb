{
 "cells": [
  {
   "cell_type": "code",
   "execution_count": 2,
   "metadata": {
    "collapsed": true,
    "pycharm": {
     "name": "#%%\n"
    }
   },
   "outputs": [],
   "source": [
    "import pandas as pd\n",
    "from sklearn.preprocessing import LabelEncoder"
   ]
  },
  {
   "cell_type": "code",
   "execution_count": 3,
   "outputs": [],
   "source": [
    "df = pd.read_excel('G:\\\\내 드라이브\\\\Watching_You_PJ\\\\project_ChatBot\\\\01_DataSet\\\\1_Raw_Data\\\\F 카페(7,859)_new.xlsx')\n",
    "df_consumer = df[['SPEAKER','SENTENCE','MAIN','QA']]\n",
    "df_consumer_len=len(df_consumer)\n",
    "df_consumer =df_consumer.fillna('기타문의')"
   ],
   "metadata": {
    "collapsed": false,
    "pycharm": {
     "name": "#%%\n"
    }
   }
  },
  {
   "cell_type": "code",
   "execution_count": 4,
   "outputs": [
    {
     "data": {
      "text/plain": "     SPEAKER              SENTENCE   MAIN QA  label_num\n0         고객          아이스아메리카노 하나요   일반주문  Q          0\n1         점원          테이크아웃하실 건가요?   일반주문  Q          1\n2         고객          네 텀블러에 넣어주세요  텀블러사용  Q          0\n3         점원     텀블러 할인 300원 해드릴게요  텀블러사용  A          1\n4         고객          그란데 사이즈로 주세요   일반주문  Q          0\n...      ...                   ...    ... ..        ...\n7854      고객  아이스 아메리카노는 가격이 다른가요?   가격문의  Q          0\n7855      고객       텀블러 할인하면 얼마인가요?   가격문의  Q          0\n7856      고객          총 가격이 얼마입니까?   가격문의  Q          0\n7857      고객     다 합쳐서 가격이 얼마인 거죠?   가격문의  Q          0\n7858      고객      에스프레소 가격은 얼마입니까?   가격문의  Q          0\n\n[7859 rows x 5 columns]",
      "text/html": "<div>\n<style scoped>\n    .dataframe tbody tr th:only-of-type {\n        vertical-align: middle;\n    }\n\n    .dataframe tbody tr th {\n        vertical-align: top;\n    }\n\n    .dataframe thead th {\n        text-align: right;\n    }\n</style>\n<table border=\"1\" class=\"dataframe\">\n  <thead>\n    <tr style=\"text-align: right;\">\n      <th></th>\n      <th>SPEAKER</th>\n      <th>SENTENCE</th>\n      <th>MAIN</th>\n      <th>QA</th>\n      <th>label_num</th>\n    </tr>\n  </thead>\n  <tbody>\n    <tr>\n      <th>0</th>\n      <td>고객</td>\n      <td>아이스아메리카노 하나요</td>\n      <td>일반주문</td>\n      <td>Q</td>\n      <td>0</td>\n    </tr>\n    <tr>\n      <th>1</th>\n      <td>점원</td>\n      <td>테이크아웃하실 건가요?</td>\n      <td>일반주문</td>\n      <td>Q</td>\n      <td>1</td>\n    </tr>\n    <tr>\n      <th>2</th>\n      <td>고객</td>\n      <td>네 텀블러에 넣어주세요</td>\n      <td>텀블러사용</td>\n      <td>Q</td>\n      <td>0</td>\n    </tr>\n    <tr>\n      <th>3</th>\n      <td>점원</td>\n      <td>텀블러 할인 300원 해드릴게요</td>\n      <td>텀블러사용</td>\n      <td>A</td>\n      <td>1</td>\n    </tr>\n    <tr>\n      <th>4</th>\n      <td>고객</td>\n      <td>그란데 사이즈로 주세요</td>\n      <td>일반주문</td>\n      <td>Q</td>\n      <td>0</td>\n    </tr>\n    <tr>\n      <th>...</th>\n      <td>...</td>\n      <td>...</td>\n      <td>...</td>\n      <td>...</td>\n      <td>...</td>\n    </tr>\n    <tr>\n      <th>7854</th>\n      <td>고객</td>\n      <td>아이스 아메리카노는 가격이 다른가요?</td>\n      <td>가격문의</td>\n      <td>Q</td>\n      <td>0</td>\n    </tr>\n    <tr>\n      <th>7855</th>\n      <td>고객</td>\n      <td>텀블러 할인하면 얼마인가요?</td>\n      <td>가격문의</td>\n      <td>Q</td>\n      <td>0</td>\n    </tr>\n    <tr>\n      <th>7856</th>\n      <td>고객</td>\n      <td>총 가격이 얼마입니까?</td>\n      <td>가격문의</td>\n      <td>Q</td>\n      <td>0</td>\n    </tr>\n    <tr>\n      <th>7857</th>\n      <td>고객</td>\n      <td>다 합쳐서 가격이 얼마인 거죠?</td>\n      <td>가격문의</td>\n      <td>Q</td>\n      <td>0</td>\n    </tr>\n    <tr>\n      <th>7858</th>\n      <td>고객</td>\n      <td>에스프레소 가격은 얼마입니까?</td>\n      <td>가격문의</td>\n      <td>Q</td>\n      <td>0</td>\n    </tr>\n  </tbody>\n</table>\n<p>7859 rows × 5 columns</p>\n</div>"
     },
     "execution_count": 4,
     "metadata": {},
     "output_type": "execute_result"
    }
   ],
   "source": [
    "le = LabelEncoder()\n",
    "result = le.fit_transform(df_consumer['SPEAKER'])\n",
    "df_consumer['label_num'] = result\n",
    "df_consumer"
   ],
   "metadata": {
    "collapsed": false,
    "pycharm": {
     "name": "#%%\n"
    }
   }
  },
  {
   "cell_type": "code",
   "execution_count": 7,
   "outputs": [],
   "source": [
    "df_consumer['diff'] = df_consumer.label_num.diff()\n",
    "df_consumer['diff_2']  = df_consumer['diff'] != 0\n",
    "df_consumer_2 = df_consumer['diff_2'] == True\n",
    "df3 = df_consumer[df_consumer_2]\n",
    "df4 = df3[:-1]\n",
    "df4 = df4[['SPEAKER','SENTENCE','MAIN','QA']]\n",
    "df4.to_csv('G:\\\\내 드라이브\\\\Watching_You_PJ\\\\project_ChatBot\\\\02_preprocessing\\\\Cleaned_Data.csv',index=False,encoding='utf-8-sig')"
   ],
   "metadata": {
    "collapsed": false,
    "pycharm": {
     "name": "#%%\n"
    }
   }
  },
  {
   "cell_type": "code",
   "execution_count": 6,
   "outputs": [
    {
     "name": "stdout",
     "output_type": "stream",
     "text": [
      "<class 'pandas.core.frame.DataFrame'>\n",
      "Int64Index: 7168 entries, 0 to 7179\n",
      "Data columns (total 4 columns):\n",
      " #   Column    Non-Null Count  Dtype \n",
      "---  ------    --------------  ----- \n",
      " 0   SPEAKER   7168 non-null   object\n",
      " 1   SENTENCE  7168 non-null   object\n",
      " 2   MAIN      7168 non-null   object\n",
      " 3   QA        7168 non-null   object\n",
      "dtypes: object(4)\n",
      "memory usage: 280.0+ KB\n"
     ]
    }
   ],
   "source": [
    "df4.info()"
   ],
   "metadata": {
    "collapsed": false,
    "pycharm": {
     "name": "#%%\n"
    }
   }
  },
  {
   "cell_type": "code",
   "execution_count": 40,
   "outputs": [],
   "source": [],
   "metadata": {
    "collapsed": false,
    "pycharm": {
     "name": "#%%\n"
    }
   }
  }
 ],
 "metadata": {
  "kernelspec": {
   "display_name": "Python 3",
   "language": "python",
   "name": "python3"
  },
  "language_info": {
   "codemirror_mode": {
    "name": "ipython",
    "version": 2
   },
   "file_extension": ".py",
   "mimetype": "text/x-python",
   "name": "python",
   "nbconvert_exporter": "python",
   "pygments_lexer": "ipython2",
   "version": "2.7.6"
  }
 },
 "nbformat": 4,
 "nbformat_minor": 0
}