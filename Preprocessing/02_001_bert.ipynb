{
 "cells": [
  {
   "cell_type": "code",
   "execution_count": 2,
   "metadata": {
    "collapsed": true
   },
   "outputs": [],
   "source": [
    "import pandas as pd"
   ]
  },
  {
   "cell_type": "code",
   "execution_count": 3,
   "outputs": [
    {
     "data": {
      "text/plain": "           IDX 발화자                                  발화문       인텐트 QA여부   QA번호\n0            1   s                  고객님 혹시 무슨 문제 있으신가요?  제품_불량_질문    q      5\n1            2   c                               네 이상해요  제품_불량_질문    a      5\n2            3   c  빙수 위에 뿌려진 과일에서 쉰 냄새가 나는데 어떻게 하면 되죠?  제품_불량_질문    q  20591\n3            4   s      죄송합니다, 폐기처분 하고 새 빙수를 제조해드리겠습니다.  제품_불량_질문    a  20591\n4            5   c              마카롱 주문했는데 마카롱이 엄청 딱딱해요.  제품_불량_질문    q  66996\n...        ...  ..                                  ...       ...  ...    ...\n169628  169629   s           죄송합니다, 모바일상품권은 사용이 어려우십니다.  결제_수단_확인    a   6799\n169629  169630   c             기프티콘으로 음료 계산할 수 있는 거 맞죠?  결제_수단_확인    q  10432\n169630  169631   s               네, 기프티콘으로 음료 계산 가능합니다.  결제_수단_확인    a  10432\n169631  169632   c              후레쉬크림빵 포인트로 결제할 수 있는거죠?  결제_수단_확인    q  47312\n169632  169633   s                     네, 포인트로 결제가능합니다.  결제_수단_확인    a  47312\n\n[169633 rows x 6 columns]",
      "text/html": "<div>\n<style scoped>\n    .dataframe tbody tr th:only-of-type {\n        vertical-align: middle;\n    }\n\n    .dataframe tbody tr th {\n        vertical-align: top;\n    }\n\n    .dataframe thead th {\n        text-align: right;\n    }\n</style>\n<table border=\"1\" class=\"dataframe\">\n  <thead>\n    <tr style=\"text-align: right;\">\n      <th></th>\n      <th>IDX</th>\n      <th>발화자</th>\n      <th>발화문</th>\n      <th>인텐트</th>\n      <th>QA여부</th>\n      <th>QA번호</th>\n    </tr>\n  </thead>\n  <tbody>\n    <tr>\n      <th>0</th>\n      <td>1</td>\n      <td>s</td>\n      <td>고객님 혹시 무슨 문제 있으신가요?</td>\n      <td>제품_불량_질문</td>\n      <td>q</td>\n      <td>5</td>\n    </tr>\n    <tr>\n      <th>1</th>\n      <td>2</td>\n      <td>c</td>\n      <td>네 이상해요</td>\n      <td>제품_불량_질문</td>\n      <td>a</td>\n      <td>5</td>\n    </tr>\n    <tr>\n      <th>2</th>\n      <td>3</td>\n      <td>c</td>\n      <td>빙수 위에 뿌려진 과일에서 쉰 냄새가 나는데 어떻게 하면 되죠?</td>\n      <td>제품_불량_질문</td>\n      <td>q</td>\n      <td>20591</td>\n    </tr>\n    <tr>\n      <th>3</th>\n      <td>4</td>\n      <td>s</td>\n      <td>죄송합니다, 폐기처분 하고 새 빙수를 제조해드리겠습니다.</td>\n      <td>제품_불량_질문</td>\n      <td>a</td>\n      <td>20591</td>\n    </tr>\n    <tr>\n      <th>4</th>\n      <td>5</td>\n      <td>c</td>\n      <td>마카롱 주문했는데 마카롱이 엄청 딱딱해요.</td>\n      <td>제품_불량_질문</td>\n      <td>q</td>\n      <td>66996</td>\n    </tr>\n    <tr>\n      <th>...</th>\n      <td>...</td>\n      <td>...</td>\n      <td>...</td>\n      <td>...</td>\n      <td>...</td>\n      <td>...</td>\n    </tr>\n    <tr>\n      <th>169628</th>\n      <td>169629</td>\n      <td>s</td>\n      <td>죄송합니다, 모바일상품권은 사용이 어려우십니다.</td>\n      <td>결제_수단_확인</td>\n      <td>a</td>\n      <td>6799</td>\n    </tr>\n    <tr>\n      <th>169629</th>\n      <td>169630</td>\n      <td>c</td>\n      <td>기프티콘으로 음료 계산할 수 있는 거 맞죠?</td>\n      <td>결제_수단_확인</td>\n      <td>q</td>\n      <td>10432</td>\n    </tr>\n    <tr>\n      <th>169630</th>\n      <td>169631</td>\n      <td>s</td>\n      <td>네, 기프티콘으로 음료 계산 가능합니다.</td>\n      <td>결제_수단_확인</td>\n      <td>a</td>\n      <td>10432</td>\n    </tr>\n    <tr>\n      <th>169631</th>\n      <td>169632</td>\n      <td>c</td>\n      <td>후레쉬크림빵 포인트로 결제할 수 있는거죠?</td>\n      <td>결제_수단_확인</td>\n      <td>q</td>\n      <td>47312</td>\n    </tr>\n    <tr>\n      <th>169632</th>\n      <td>169633</td>\n      <td>s</td>\n      <td>네, 포인트로 결제가능합니다.</td>\n      <td>결제_수단_확인</td>\n      <td>a</td>\n      <td>47312</td>\n    </tr>\n  </tbody>\n</table>\n<p>169633 rows × 6 columns</p>\n</div>"
     },
     "execution_count": 3,
     "metadata": {},
     "output_type": "execute_result"
    }
   ],
   "source": [
    "df = pd.read_csv('G:\\\\내 드라이브\\\\Watching_You_PJ\\\\project_ChatBot\\\\02_preprocessing\\\\02_001_Cleaned_Data.csv')\n",
    "df"
   ],
   "metadata": {
    "collapsed": false,
    "pycharm": {
     "name": "#%%\n"
    }
   }
  },
  {
   "cell_type": "code",
   "execution_count": 4,
   "outputs": [
    {
     "data": {
      "text/plain": "           IDX 발화자                                      발화문       인텐트 QA여부  \\\n2            3   c      빙수 위에 뿌려진 과일에서 쉰 냄새가 나는데 어떻게 하면 되죠?  제품_불량_질문    q   \n4            5   c                  마카롱 주문했는데 마카롱이 엄청 딱딱해요.  제품_불량_질문    q   \n6            7   c  와플 지금 받았는데 너무 눅눅해서 못먹겠어요 이거 어떻게 하면 되나요?  제품_불량_질문    q   \n8            9   c       케이크에 생크림 모양이 너무 변형된 것 같은데 어떻게 하나요?  제품_불량_질문    q   \n10          11   c                   시루떡에서 왜 시큼한 냄새가 나는 거죠?  제품_불량_질문    q   \n...        ...  ..                                      ...       ...  ...   \n169623  169624   c                      기프티콘으로 결제 가능한 거 맞죠?  결제_수단_확인    q   \n169625  169626   c                         카카오페이로 결제 된거 맞죠?  결제_수단_확인    q   \n169627  169628   c                       모바일상품권도 결제할 수 있어요?  결제_수단_확인    q   \n169629  169630   c                 기프티콘으로 음료 계산할 수 있는 거 맞죠?  결제_수단_확인    q   \n169631  169632   c                  후레쉬크림빵 포인트로 결제할 수 있는거죠?  결제_수단_확인    q   \n\n         QA번호  \n2       20591  \n4       66996  \n6       20596  \n8       20586  \n10      21403  \n...       ...  \n169623  45461  \n169625  31251  \n169627   6799  \n169629  10432  \n169631  47312  \n\n[80111 rows x 6 columns]",
      "text/html": "<div>\n<style scoped>\n    .dataframe tbody tr th:only-of-type {\n        vertical-align: middle;\n    }\n\n    .dataframe tbody tr th {\n        vertical-align: top;\n    }\n\n    .dataframe thead th {\n        text-align: right;\n    }\n</style>\n<table border=\"1\" class=\"dataframe\">\n  <thead>\n    <tr style=\"text-align: right;\">\n      <th></th>\n      <th>IDX</th>\n      <th>발화자</th>\n      <th>발화문</th>\n      <th>인텐트</th>\n      <th>QA여부</th>\n      <th>QA번호</th>\n    </tr>\n  </thead>\n  <tbody>\n    <tr>\n      <th>2</th>\n      <td>3</td>\n      <td>c</td>\n      <td>빙수 위에 뿌려진 과일에서 쉰 냄새가 나는데 어떻게 하면 되죠?</td>\n      <td>제품_불량_질문</td>\n      <td>q</td>\n      <td>20591</td>\n    </tr>\n    <tr>\n      <th>4</th>\n      <td>5</td>\n      <td>c</td>\n      <td>마카롱 주문했는데 마카롱이 엄청 딱딱해요.</td>\n      <td>제품_불량_질문</td>\n      <td>q</td>\n      <td>66996</td>\n    </tr>\n    <tr>\n      <th>6</th>\n      <td>7</td>\n      <td>c</td>\n      <td>와플 지금 받았는데 너무 눅눅해서 못먹겠어요 이거 어떻게 하면 되나요?</td>\n      <td>제품_불량_질문</td>\n      <td>q</td>\n      <td>20596</td>\n    </tr>\n    <tr>\n      <th>8</th>\n      <td>9</td>\n      <td>c</td>\n      <td>케이크에 생크림 모양이 너무 변형된 것 같은데 어떻게 하나요?</td>\n      <td>제품_불량_질문</td>\n      <td>q</td>\n      <td>20586</td>\n    </tr>\n    <tr>\n      <th>10</th>\n      <td>11</td>\n      <td>c</td>\n      <td>시루떡에서 왜 시큼한 냄새가 나는 거죠?</td>\n      <td>제품_불량_질문</td>\n      <td>q</td>\n      <td>21403</td>\n    </tr>\n    <tr>\n      <th>...</th>\n      <td>...</td>\n      <td>...</td>\n      <td>...</td>\n      <td>...</td>\n      <td>...</td>\n      <td>...</td>\n    </tr>\n    <tr>\n      <th>169623</th>\n      <td>169624</td>\n      <td>c</td>\n      <td>기프티콘으로 결제 가능한 거 맞죠?</td>\n      <td>결제_수단_확인</td>\n      <td>q</td>\n      <td>45461</td>\n    </tr>\n    <tr>\n      <th>169625</th>\n      <td>169626</td>\n      <td>c</td>\n      <td>카카오페이로 결제 된거 맞죠?</td>\n      <td>결제_수단_확인</td>\n      <td>q</td>\n      <td>31251</td>\n    </tr>\n    <tr>\n      <th>169627</th>\n      <td>169628</td>\n      <td>c</td>\n      <td>모바일상품권도 결제할 수 있어요?</td>\n      <td>결제_수단_확인</td>\n      <td>q</td>\n      <td>6799</td>\n    </tr>\n    <tr>\n      <th>169629</th>\n      <td>169630</td>\n      <td>c</td>\n      <td>기프티콘으로 음료 계산할 수 있는 거 맞죠?</td>\n      <td>결제_수단_확인</td>\n      <td>q</td>\n      <td>10432</td>\n    </tr>\n    <tr>\n      <th>169631</th>\n      <td>169632</td>\n      <td>c</td>\n      <td>후레쉬크림빵 포인트로 결제할 수 있는거죠?</td>\n      <td>결제_수단_확인</td>\n      <td>q</td>\n      <td>47312</td>\n    </tr>\n  </tbody>\n</table>\n<p>80111 rows × 6 columns</p>\n</div>"
     },
     "execution_count": 4,
     "metadata": {},
     "output_type": "execute_result"
    }
   ],
   "source": [
    "df_consumer = (df.발화자 =='c') & (df.QA여부 =='q')\n",
    "\n",
    "df= df[df_consumer]\n",
    "\n",
    "df"
   ],
   "metadata": {
    "collapsed": false,
    "pycharm": {
     "name": "#%%\n"
    }
   }
  },
  {
   "cell_type": "code",
   "execution_count": 5,
   "outputs": [
    {
     "data": {
      "text/plain": "                                            발화문       인텐트\n2           빙수 위에 뿌려진 과일에서 쉰 냄새가 나는데 어떻게 하면 되죠?  제품_불량_질문\n4                       마카롱 주문했는데 마카롱이 엄청 딱딱해요.  제품_불량_질문\n6       와플 지금 받았는데 너무 눅눅해서 못먹겠어요 이거 어떻게 하면 되나요?  제품_불량_질문\n8            케이크에 생크림 모양이 너무 변형된 것 같은데 어떻게 하나요?  제품_불량_질문\n10                       시루떡에서 왜 시큼한 냄새가 나는 거죠?  제품_불량_질문\n...                                         ...       ...\n169623                      기프티콘으로 결제 가능한 거 맞죠?  결제_수단_확인\n169625                         카카오페이로 결제 된거 맞죠?  결제_수단_확인\n169627                       모바일상품권도 결제할 수 있어요?  결제_수단_확인\n169629                 기프티콘으로 음료 계산할 수 있는 거 맞죠?  결제_수단_확인\n169631                  후레쉬크림빵 포인트로 결제할 수 있는거죠?  결제_수단_확인\n\n[80111 rows x 2 columns]",
      "text/html": "<div>\n<style scoped>\n    .dataframe tbody tr th:only-of-type {\n        vertical-align: middle;\n    }\n\n    .dataframe tbody tr th {\n        vertical-align: top;\n    }\n\n    .dataframe thead th {\n        text-align: right;\n    }\n</style>\n<table border=\"1\" class=\"dataframe\">\n  <thead>\n    <tr style=\"text-align: right;\">\n      <th></th>\n      <th>발화문</th>\n      <th>인텐트</th>\n    </tr>\n  </thead>\n  <tbody>\n    <tr>\n      <th>2</th>\n      <td>빙수 위에 뿌려진 과일에서 쉰 냄새가 나는데 어떻게 하면 되죠?</td>\n      <td>제품_불량_질문</td>\n    </tr>\n    <tr>\n      <th>4</th>\n      <td>마카롱 주문했는데 마카롱이 엄청 딱딱해요.</td>\n      <td>제품_불량_질문</td>\n    </tr>\n    <tr>\n      <th>6</th>\n      <td>와플 지금 받았는데 너무 눅눅해서 못먹겠어요 이거 어떻게 하면 되나요?</td>\n      <td>제품_불량_질문</td>\n    </tr>\n    <tr>\n      <th>8</th>\n      <td>케이크에 생크림 모양이 너무 변형된 것 같은데 어떻게 하나요?</td>\n      <td>제품_불량_질문</td>\n    </tr>\n    <tr>\n      <th>10</th>\n      <td>시루떡에서 왜 시큼한 냄새가 나는 거죠?</td>\n      <td>제품_불량_질문</td>\n    </tr>\n    <tr>\n      <th>...</th>\n      <td>...</td>\n      <td>...</td>\n    </tr>\n    <tr>\n      <th>169623</th>\n      <td>기프티콘으로 결제 가능한 거 맞죠?</td>\n      <td>결제_수단_확인</td>\n    </tr>\n    <tr>\n      <th>169625</th>\n      <td>카카오페이로 결제 된거 맞죠?</td>\n      <td>결제_수단_확인</td>\n    </tr>\n    <tr>\n      <th>169627</th>\n      <td>모바일상품권도 결제할 수 있어요?</td>\n      <td>결제_수단_확인</td>\n    </tr>\n    <tr>\n      <th>169629</th>\n      <td>기프티콘으로 음료 계산할 수 있는 거 맞죠?</td>\n      <td>결제_수단_확인</td>\n    </tr>\n    <tr>\n      <th>169631</th>\n      <td>후레쉬크림빵 포인트로 결제할 수 있는거죠?</td>\n      <td>결제_수단_확인</td>\n    </tr>\n  </tbody>\n</table>\n<p>80111 rows × 2 columns</p>\n</div>"
     },
     "execution_count": 5,
     "metadata": {},
     "output_type": "execute_result"
    }
   ],
   "source": [
    "df_bert = df[['발화문','인텐트']]\n",
    "df_bert"
   ],
   "metadata": {
    "collapsed": false,
    "pycharm": {
     "name": "#%%\n"
    }
   }
  },
  {
   "cell_type": "code",
   "execution_count": 6,
   "outputs": [],
   "source": [
    "from sklearn.preprocessing import LabelEncoder"
   ],
   "metadata": {
    "collapsed": false,
    "pycharm": {
     "name": "#%%\n"
    }
   }
  },
  {
   "cell_type": "code",
   "execution_count": 7,
   "outputs": [
    {
     "data": {
      "text/plain": "                                              Q         C\n2           빙수 위에 뿌려진 과일에서 쉰 냄새가 나는데 어떻게 하면 되죠?  제품_불량_질문\n4                       마카롱 주문했는데 마카롱이 엄청 딱딱해요.  제품_불량_질문\n6       와플 지금 받았는데 너무 눅눅해서 못먹겠어요 이거 어떻게 하면 되나요?  제품_불량_질문\n8            케이크에 생크림 모양이 너무 변형된 것 같은데 어떻게 하나요?  제품_불량_질문\n10                       시루떡에서 왜 시큼한 냄새가 나는 거죠?  제품_불량_질문\n...                                         ...       ...\n169623                      기프티콘으로 결제 가능한 거 맞죠?  결제_수단_확인\n169625                         카카오페이로 결제 된거 맞죠?  결제_수단_확인\n169627                       모바일상품권도 결제할 수 있어요?  결제_수단_확인\n169629                 기프티콘으로 음료 계산할 수 있는 거 맞죠?  결제_수단_확인\n169631                  후레쉬크림빵 포인트로 결제할 수 있는거죠?  결제_수단_확인\n\n[80111 rows x 2 columns]",
      "text/html": "<div>\n<style scoped>\n    .dataframe tbody tr th:only-of-type {\n        vertical-align: middle;\n    }\n\n    .dataframe tbody tr th {\n        vertical-align: top;\n    }\n\n    .dataframe thead th {\n        text-align: right;\n    }\n</style>\n<table border=\"1\" class=\"dataframe\">\n  <thead>\n    <tr style=\"text-align: right;\">\n      <th></th>\n      <th>Q</th>\n      <th>C</th>\n    </tr>\n  </thead>\n  <tbody>\n    <tr>\n      <th>2</th>\n      <td>빙수 위에 뿌려진 과일에서 쉰 냄새가 나는데 어떻게 하면 되죠?</td>\n      <td>제품_불량_질문</td>\n    </tr>\n    <tr>\n      <th>4</th>\n      <td>마카롱 주문했는데 마카롱이 엄청 딱딱해요.</td>\n      <td>제품_불량_질문</td>\n    </tr>\n    <tr>\n      <th>6</th>\n      <td>와플 지금 받았는데 너무 눅눅해서 못먹겠어요 이거 어떻게 하면 되나요?</td>\n      <td>제품_불량_질문</td>\n    </tr>\n    <tr>\n      <th>8</th>\n      <td>케이크에 생크림 모양이 너무 변형된 것 같은데 어떻게 하나요?</td>\n      <td>제품_불량_질문</td>\n    </tr>\n    <tr>\n      <th>10</th>\n      <td>시루떡에서 왜 시큼한 냄새가 나는 거죠?</td>\n      <td>제품_불량_질문</td>\n    </tr>\n    <tr>\n      <th>...</th>\n      <td>...</td>\n      <td>...</td>\n    </tr>\n    <tr>\n      <th>169623</th>\n      <td>기프티콘으로 결제 가능한 거 맞죠?</td>\n      <td>결제_수단_확인</td>\n    </tr>\n    <tr>\n      <th>169625</th>\n      <td>카카오페이로 결제 된거 맞죠?</td>\n      <td>결제_수단_확인</td>\n    </tr>\n    <tr>\n      <th>169627</th>\n      <td>모바일상품권도 결제할 수 있어요?</td>\n      <td>결제_수단_확인</td>\n    </tr>\n    <tr>\n      <th>169629</th>\n      <td>기프티콘으로 음료 계산할 수 있는 거 맞죠?</td>\n      <td>결제_수단_확인</td>\n    </tr>\n    <tr>\n      <th>169631</th>\n      <td>후레쉬크림빵 포인트로 결제할 수 있는거죠?</td>\n      <td>결제_수단_확인</td>\n    </tr>\n  </tbody>\n</table>\n<p>80111 rows × 2 columns</p>\n</div>"
     },
     "execution_count": 7,
     "metadata": {},
     "output_type": "execute_result"
    }
   ],
   "source": [
    "\n",
    "df_bert = df_bert[['발화문','인텐트']]\n",
    "df_bert.rename(columns= {\"발화문\":\"Q\" , \"인텐트\":\"C\"},inplace=True)\n",
    "df_bert"
   ],
   "metadata": {
    "collapsed": false,
    "pycharm": {
     "name": "#%%\n"
    }
   }
  },
  {
   "cell_type": "code",
   "execution_count": 8,
   "outputs": [],
   "source": [
    "df_bert_len = len(df_bert)"
   ],
   "metadata": {
    "collapsed": false,
    "pycharm": {
     "name": "#%%\n"
    }
   }
  },
  {
   "cell_type": "code",
   "execution_count": 9,
   "outputs": [],
   "source": [
    "C_2 = []\n",
    "for i in range(0,df_bert_len):\n",
    "    a = df_bert.iloc[i]\n",
    "    a = a[1]\n",
    "    a,b,c = a.split('_')\n",
    "    # category = a+\"_\"+b+\"_\"+'문의'\n",
    "    category = a+\"_\"+b+\"_\"+'문의'\n",
    "    C_2.append(category)\n",
    "    # if i % 1000 == 0:\n",
    "    #     print(a+b+'문의')\n",
    "df_bert['C_2'] =C_2\n",
    "\n"
   ],
   "metadata": {
    "collapsed": false,
    "pycharm": {
     "name": "#%%\n"
    }
   }
  },
  {
   "cell_type": "code",
   "execution_count": 10,
   "outputs": [],
   "source": [
    "le = LabelEncoder()\n",
    "result = le.fit_transform(df_bert['Q'])\n",
    "df_bert['N'] = result"
   ],
   "metadata": {
    "collapsed": false,
    "pycharm": {
     "name": "#%%\n"
    }
   }
  },
  {
   "cell_type": "code",
   "execution_count": 11,
   "outputs": [
    {
     "name": "stderr",
     "output_type": "stream",
     "text": [
      "C:\\Users\\SteveLee\\AppData\\Roaming\\Python\\Python37\\site-packages\\pandas\\core\\frame.py:5047: SettingWithCopyWarning: \n",
      "A value is trying to be set on a copy of a slice from a DataFrame\n",
      "\n",
      "See the caveats in the documentation: https://pandas.pydata.org/pandas-docs/stable/user_guide/indexing.html#returning-a-view-versus-a-copy\n",
      "  errors=errors,\n"
     ]
    },
    {
     "data": {
      "text/plain": "                                              Q         C      N\n2           빙수 위에 뿌려진 과일에서 쉰 냄새가 나는데 어떻게 하면 되죠?  제품_불량_문의  26085\n4                       마카롱 주문했는데 마카롱이 엄청 딱딱해요.  제품_불량_문의  16156\n6       와플 지금 받았는데 너무 눅눅해서 못먹겠어요 이거 어떻게 하면 되나요?  제품_불량_문의  44550\n8            케이크에 생크림 모양이 너무 변형된 것 같은데 어떻게 하나요?  제품_불량_문의  60986\n10                       시루떡에서 왜 시큼한 냄새가 나는 거죠?  제품_불량_문의  31585\n...                                         ...       ...    ...\n169623                      기프티콘으로 결제 가능한 거 맞죠?  결제_수단_문의   5904\n169625                         카카오페이로 결제 된거 맞죠?  결제_수단_문의  58002\n169627                       모바일상품권도 결제할 수 있어요?  결제_수단_문의  20371\n169629                 기프티콘으로 음료 계산할 수 있는 거 맞죠?  결제_수단_문의   5941\n169631                  후레쉬크림빵 포인트로 결제할 수 있는거죠?  결제_수단_문의  72000\n\n[80111 rows x 3 columns]",
      "text/html": "<div>\n<style scoped>\n    .dataframe tbody tr th:only-of-type {\n        vertical-align: middle;\n    }\n\n    .dataframe tbody tr th {\n        vertical-align: top;\n    }\n\n    .dataframe thead th {\n        text-align: right;\n    }\n</style>\n<table border=\"1\" class=\"dataframe\">\n  <thead>\n    <tr style=\"text-align: right;\">\n      <th></th>\n      <th>Q</th>\n      <th>C</th>\n      <th>N</th>\n    </tr>\n  </thead>\n  <tbody>\n    <tr>\n      <th>2</th>\n      <td>빙수 위에 뿌려진 과일에서 쉰 냄새가 나는데 어떻게 하면 되죠?</td>\n      <td>제품_불량_문의</td>\n      <td>26085</td>\n    </tr>\n    <tr>\n      <th>4</th>\n      <td>마카롱 주문했는데 마카롱이 엄청 딱딱해요.</td>\n      <td>제품_불량_문의</td>\n      <td>16156</td>\n    </tr>\n    <tr>\n      <th>6</th>\n      <td>와플 지금 받았는데 너무 눅눅해서 못먹겠어요 이거 어떻게 하면 되나요?</td>\n      <td>제품_불량_문의</td>\n      <td>44550</td>\n    </tr>\n    <tr>\n      <th>8</th>\n      <td>케이크에 생크림 모양이 너무 변형된 것 같은데 어떻게 하나요?</td>\n      <td>제품_불량_문의</td>\n      <td>60986</td>\n    </tr>\n    <tr>\n      <th>10</th>\n      <td>시루떡에서 왜 시큼한 냄새가 나는 거죠?</td>\n      <td>제품_불량_문의</td>\n      <td>31585</td>\n    </tr>\n    <tr>\n      <th>...</th>\n      <td>...</td>\n      <td>...</td>\n      <td>...</td>\n    </tr>\n    <tr>\n      <th>169623</th>\n      <td>기프티콘으로 결제 가능한 거 맞죠?</td>\n      <td>결제_수단_문의</td>\n      <td>5904</td>\n    </tr>\n    <tr>\n      <th>169625</th>\n      <td>카카오페이로 결제 된거 맞죠?</td>\n      <td>결제_수단_문의</td>\n      <td>58002</td>\n    </tr>\n    <tr>\n      <th>169627</th>\n      <td>모바일상품권도 결제할 수 있어요?</td>\n      <td>결제_수단_문의</td>\n      <td>20371</td>\n    </tr>\n    <tr>\n      <th>169629</th>\n      <td>기프티콘으로 음료 계산할 수 있는 거 맞죠?</td>\n      <td>결제_수단_문의</td>\n      <td>5941</td>\n    </tr>\n    <tr>\n      <th>169631</th>\n      <td>후레쉬크림빵 포인트로 결제할 수 있는거죠?</td>\n      <td>결제_수단_문의</td>\n      <td>72000</td>\n    </tr>\n  </tbody>\n</table>\n<p>80111 rows × 3 columns</p>\n</div>"
     },
     "execution_count": 11,
     "metadata": {},
     "output_type": "execute_result"
    }
   ],
   "source": [
    "df_bert = df_bert[['Q','C_2','N']]\n",
    "df_bert.rename(columns= {\"C_2\":\"C\"},inplace=True)\n",
    "df_bert"
   ],
   "metadata": {
    "collapsed": false,
    "pycharm": {
     "name": "#%%\n"
    }
   }
  },
  {
   "cell_type": "code",
   "execution_count": 12,
   "outputs": [
    {
     "name": "stderr",
     "output_type": "stream",
     "text": [
      "C:\\Anaconda\\envs\\music_category_classification\\lib\\site-packages\\ipykernel_launcher.py:1: SettingWithCopyWarning: \n",
      "A value is trying to be set on a copy of a slice from a DataFrame.\n",
      "Try using .loc[row_indexer,col_indexer] = value instead\n",
      "\n",
      "See the caveats in the documentation: https://pandas.pydata.org/pandas-docs/stable/user_guide/indexing.html#returning-a-view-versus-a-copy\n",
      "  \"\"\"Entry point for launching an IPython kernel.\n"
     ]
    },
    {
     "data": {
      "text/plain": "                                              Q         C      N\n2           빙수 위에 뿌려진 과일에서 쉰 냄새가 나는데 어떻게 하면 되죠   제품_불량_문의  26085\n4                       마카롱 주문했는데 마카롱이 엄청 딱딱해요   제품_불량_문의  16156\n6       와플 지금 받았는데 너무 눅눅해서 못먹겠어요 이거 어떻게 하면 되나요   제품_불량_문의  44550\n8            케이크에 생크림 모양이 너무 변형된 것 같은데 어떻게 하나요   제품_불량_문의  60986\n10                       시루떡에서 왜 시큼한 냄새가 나는 거죠   제품_불량_문의  31585\n...                                         ...       ...    ...\n169623                      기프티콘으로 결제 가능한 거 맞죠   결제_수단_문의   5904\n169625                         카카오페이로 결제 된거 맞죠   결제_수단_문의  58002\n169627                       모바일상품권도 결제할 수 있어요   결제_수단_문의  20371\n169629                 기프티콘으로 음료 계산할 수 있는 거 맞죠   결제_수단_문의   5941\n169631                  후레쉬크림빵 포인트로 결제할 수 있는거죠   결제_수단_문의  72000\n\n[80111 rows x 3 columns]",
      "text/html": "<div>\n<style scoped>\n    .dataframe tbody tr th:only-of-type {\n        vertical-align: middle;\n    }\n\n    .dataframe tbody tr th {\n        vertical-align: top;\n    }\n\n    .dataframe thead th {\n        text-align: right;\n    }\n</style>\n<table border=\"1\" class=\"dataframe\">\n  <thead>\n    <tr style=\"text-align: right;\">\n      <th></th>\n      <th>Q</th>\n      <th>C</th>\n      <th>N</th>\n    </tr>\n  </thead>\n  <tbody>\n    <tr>\n      <th>2</th>\n      <td>빙수 위에 뿌려진 과일에서 쉰 냄새가 나는데 어떻게 하면 되죠</td>\n      <td>제품_불량_문의</td>\n      <td>26085</td>\n    </tr>\n    <tr>\n      <th>4</th>\n      <td>마카롱 주문했는데 마카롱이 엄청 딱딱해요</td>\n      <td>제품_불량_문의</td>\n      <td>16156</td>\n    </tr>\n    <tr>\n      <th>6</th>\n      <td>와플 지금 받았는데 너무 눅눅해서 못먹겠어요 이거 어떻게 하면 되나요</td>\n      <td>제품_불량_문의</td>\n      <td>44550</td>\n    </tr>\n    <tr>\n      <th>8</th>\n      <td>케이크에 생크림 모양이 너무 변형된 것 같은데 어떻게 하나요</td>\n      <td>제품_불량_문의</td>\n      <td>60986</td>\n    </tr>\n    <tr>\n      <th>10</th>\n      <td>시루떡에서 왜 시큼한 냄새가 나는 거죠</td>\n      <td>제품_불량_문의</td>\n      <td>31585</td>\n    </tr>\n    <tr>\n      <th>...</th>\n      <td>...</td>\n      <td>...</td>\n      <td>...</td>\n    </tr>\n    <tr>\n      <th>169623</th>\n      <td>기프티콘으로 결제 가능한 거 맞죠</td>\n      <td>결제_수단_문의</td>\n      <td>5904</td>\n    </tr>\n    <tr>\n      <th>169625</th>\n      <td>카카오페이로 결제 된거 맞죠</td>\n      <td>결제_수단_문의</td>\n      <td>58002</td>\n    </tr>\n    <tr>\n      <th>169627</th>\n      <td>모바일상품권도 결제할 수 있어요</td>\n      <td>결제_수단_문의</td>\n      <td>20371</td>\n    </tr>\n    <tr>\n      <th>169629</th>\n      <td>기프티콘으로 음료 계산할 수 있는 거 맞죠</td>\n      <td>결제_수단_문의</td>\n      <td>5941</td>\n    </tr>\n    <tr>\n      <th>169631</th>\n      <td>후레쉬크림빵 포인트로 결제할 수 있는거죠</td>\n      <td>결제_수단_문의</td>\n      <td>72000</td>\n    </tr>\n  </tbody>\n</table>\n<p>80111 rows × 3 columns</p>\n</div>"
     },
     "execution_count": 12,
     "metadata": {},
     "output_type": "execute_result"
    }
   ],
   "source": [
    "\n",
    "df_bert[\"Q\"] = df_bert[\"Q\"].str.replace(pat=r'[^\\w]', repl=r' ', regex=True)\n",
    "df_bert"
   ],
   "metadata": {
    "collapsed": false,
    "pycharm": {
     "name": "#%%\n"
    }
   }
  },
  {
   "cell_type": "code",
   "execution_count": 16,
   "outputs": [
    {
     "name": "stderr",
     "output_type": "stream",
     "text": [
      "C:\\Anaconda\\envs\\music_category_classification\\lib\\site-packages\\ipykernel_launcher.py:3: SettingWithCopyWarning: \n",
      "A value is trying to be set on a copy of a slice from a DataFrame.\n",
      "Try using .loc[row_indexer,col_indexer] = value instead\n",
      "\n",
      "See the caveats in the documentation: https://pandas.pydata.org/pandas-docs/stable/user_guide/indexing.html#returning-a-view-versus-a-copy\n",
      "  This is separate from the ipykernel package so we can avoid doing imports until\n"
     ]
    }
   ],
   "source": [
    "le = LabelEncoder()\n",
    "result = le.fit_transform(df_bert['C'])\n",
    "df_bert['N'] = result"
   ],
   "metadata": {
    "collapsed": false,
    "pycharm": {
     "name": "#%%\n"
    }
   }
  },
  {
   "cell_type": "code",
   "execution_count": 19,
   "outputs": [],
   "source": [
    "df_bert.to_csv('G:\\\\내 드라이브\\\\Watching_You_PJ\\\\project_ChatBot\\\\02_preprocessing\\\\02_001_bert.csv'\n",
    "            ,encoding='utf-8-sig',index=False)"
   ],
   "metadata": {
    "collapsed": false,
    "pycharm": {
     "name": "#%%\n"
    }
   }
  },
  {
   "cell_type": "code",
   "execution_count": 18,
   "outputs": [
    {
     "data": {
      "text/plain": "                                              Q         C   N\n2           빙수 위에 뿌려진 과일에서 쉰 냄새가 나는데 어떻게 하면 되죠   제품_불량_문의  39\n4                       마카롱 주문했는데 마카롱이 엄청 딱딱해요   제품_불량_문의  39\n6       와플 지금 받았는데 너무 눅눅해서 못먹겠어요 이거 어떻게 하면 되나요   제품_불량_문의  39\n8            케이크에 생크림 모양이 너무 변형된 것 같은데 어떻게 하나요   제품_불량_문의  39\n10                       시루떡에서 왜 시큼한 냄새가 나는 거죠   제품_불량_문의  39\n...                                         ...       ...  ..\n169623                      기프티콘으로 결제 가능한 거 맞죠   결제_수단_문의   2\n169625                         카카오페이로 결제 된거 맞죠   결제_수단_문의   2\n169627                       모바일상품권도 결제할 수 있어요   결제_수단_문의   2\n169629                 기프티콘으로 음료 계산할 수 있는 거 맞죠   결제_수단_문의   2\n169631                  후레쉬크림빵 포인트로 결제할 수 있는거죠   결제_수단_문의   2\n\n[80111 rows x 3 columns]",
      "text/html": "<div>\n<style scoped>\n    .dataframe tbody tr th:only-of-type {\n        vertical-align: middle;\n    }\n\n    .dataframe tbody tr th {\n        vertical-align: top;\n    }\n\n    .dataframe thead th {\n        text-align: right;\n    }\n</style>\n<table border=\"1\" class=\"dataframe\">\n  <thead>\n    <tr style=\"text-align: right;\">\n      <th></th>\n      <th>Q</th>\n      <th>C</th>\n      <th>N</th>\n    </tr>\n  </thead>\n  <tbody>\n    <tr>\n      <th>2</th>\n      <td>빙수 위에 뿌려진 과일에서 쉰 냄새가 나는데 어떻게 하면 되죠</td>\n      <td>제품_불량_문의</td>\n      <td>39</td>\n    </tr>\n    <tr>\n      <th>4</th>\n      <td>마카롱 주문했는데 마카롱이 엄청 딱딱해요</td>\n      <td>제품_불량_문의</td>\n      <td>39</td>\n    </tr>\n    <tr>\n      <th>6</th>\n      <td>와플 지금 받았는데 너무 눅눅해서 못먹겠어요 이거 어떻게 하면 되나요</td>\n      <td>제품_불량_문의</td>\n      <td>39</td>\n    </tr>\n    <tr>\n      <th>8</th>\n      <td>케이크에 생크림 모양이 너무 변형된 것 같은데 어떻게 하나요</td>\n      <td>제품_불량_문의</td>\n      <td>39</td>\n    </tr>\n    <tr>\n      <th>10</th>\n      <td>시루떡에서 왜 시큼한 냄새가 나는 거죠</td>\n      <td>제품_불량_문의</td>\n      <td>39</td>\n    </tr>\n    <tr>\n      <th>...</th>\n      <td>...</td>\n      <td>...</td>\n      <td>...</td>\n    </tr>\n    <tr>\n      <th>169623</th>\n      <td>기프티콘으로 결제 가능한 거 맞죠</td>\n      <td>결제_수단_문의</td>\n      <td>2</td>\n    </tr>\n    <tr>\n      <th>169625</th>\n      <td>카카오페이로 결제 된거 맞죠</td>\n      <td>결제_수단_문의</td>\n      <td>2</td>\n    </tr>\n    <tr>\n      <th>169627</th>\n      <td>모바일상품권도 결제할 수 있어요</td>\n      <td>결제_수단_문의</td>\n      <td>2</td>\n    </tr>\n    <tr>\n      <th>169629</th>\n      <td>기프티콘으로 음료 계산할 수 있는 거 맞죠</td>\n      <td>결제_수단_문의</td>\n      <td>2</td>\n    </tr>\n    <tr>\n      <th>169631</th>\n      <td>후레쉬크림빵 포인트로 결제할 수 있는거죠</td>\n      <td>결제_수단_문의</td>\n      <td>2</td>\n    </tr>\n  </tbody>\n</table>\n<p>80111 rows × 3 columns</p>\n</div>"
     },
     "execution_count": 18,
     "metadata": {},
     "output_type": "execute_result"
    }
   ],
   "source": [
    "df_bert"
   ],
   "metadata": {
    "collapsed": false,
    "pycharm": {
     "name": "#%%\n"
    }
   }
  },
  {
   "cell_type": "code",
   "execution_count": 15,
   "outputs": [],
   "source": [],
   "metadata": {
    "collapsed": false,
    "pycharm": {
     "name": "#%%\n"
    }
   }
  }
 ],
 "metadata": {
  "kernelspec": {
   "display_name": "Python 3",
   "language": "python",
   "name": "python3"
  },
  "language_info": {
   "codemirror_mode": {
    "name": "ipython",
    "version": 2
   },
   "file_extension": ".py",
   "mimetype": "text/x-python",
   "name": "python",
   "nbconvert_exporter": "python",
   "pygments_lexer": "ipython2",
   "version": "2.7.6"
  }
 },
 "nbformat": 4,
 "nbformat_minor": 0
}