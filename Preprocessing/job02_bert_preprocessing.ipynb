{
 "cells": [
  {
   "cell_type": "code",
   "execution_count": 6,
   "metadata": {
    "collapsed": true
   },
   "outputs": [],
   "source": [
    "import pandas as pd"
   ]
  },
  {
   "cell_type": "code",
   "execution_count": 7,
   "outputs": [
    {
     "data": {
      "text/plain": "     SPEAKER                                 SENTENCE   MAIN QA\n0         고객                             아이스아메리카노 하나요   일반주문  Q\n1         점원                             테이크아웃하실 건가요?   일반주문  Q\n2         고객                             네 텀블러에 넣어주세요  텀블러사용  Q\n3         점원                        텀블러 할인 300원 해드릴게요  텀블러사용  A\n4         고객                             그란데 사이즈로 주세요   일반주문  Q\n...      ...                                      ...    ... ..\n7163      점원                             현금 영수증 맞으세요?  영수증요청  Q\n7164      고객                            아니요, 그냥 영수증이요  영수증요청  A\n7165      점원                               네, 여기 드릴게요  영수증요청  A\n7166      고객                         차는 어디에 세울 수 있어요?   주차문의  Q\n7167      점원  주차장은 따로 없고 타워 맞은편 주차 라인이나 상가 앞에 세우셔야 해요   주차문의  A\n\n[7168 rows x 4 columns]",
      "text/html": "<div>\n<style scoped>\n    .dataframe tbody tr th:only-of-type {\n        vertical-align: middle;\n    }\n\n    .dataframe tbody tr th {\n        vertical-align: top;\n    }\n\n    .dataframe thead th {\n        text-align: right;\n    }\n</style>\n<table border=\"1\" class=\"dataframe\">\n  <thead>\n    <tr style=\"text-align: right;\">\n      <th></th>\n      <th>SPEAKER</th>\n      <th>SENTENCE</th>\n      <th>MAIN</th>\n      <th>QA</th>\n    </tr>\n  </thead>\n  <tbody>\n    <tr>\n      <th>0</th>\n      <td>고객</td>\n      <td>아이스아메리카노 하나요</td>\n      <td>일반주문</td>\n      <td>Q</td>\n    </tr>\n    <tr>\n      <th>1</th>\n      <td>점원</td>\n      <td>테이크아웃하실 건가요?</td>\n      <td>일반주문</td>\n      <td>Q</td>\n    </tr>\n    <tr>\n      <th>2</th>\n      <td>고객</td>\n      <td>네 텀블러에 넣어주세요</td>\n      <td>텀블러사용</td>\n      <td>Q</td>\n    </tr>\n    <tr>\n      <th>3</th>\n      <td>점원</td>\n      <td>텀블러 할인 300원 해드릴게요</td>\n      <td>텀블러사용</td>\n      <td>A</td>\n    </tr>\n    <tr>\n      <th>4</th>\n      <td>고객</td>\n      <td>그란데 사이즈로 주세요</td>\n      <td>일반주문</td>\n      <td>Q</td>\n    </tr>\n    <tr>\n      <th>...</th>\n      <td>...</td>\n      <td>...</td>\n      <td>...</td>\n      <td>...</td>\n    </tr>\n    <tr>\n      <th>7163</th>\n      <td>점원</td>\n      <td>현금 영수증 맞으세요?</td>\n      <td>영수증요청</td>\n      <td>Q</td>\n    </tr>\n    <tr>\n      <th>7164</th>\n      <td>고객</td>\n      <td>아니요, 그냥 영수증이요</td>\n      <td>영수증요청</td>\n      <td>A</td>\n    </tr>\n    <tr>\n      <th>7165</th>\n      <td>점원</td>\n      <td>네, 여기 드릴게요</td>\n      <td>영수증요청</td>\n      <td>A</td>\n    </tr>\n    <tr>\n      <th>7166</th>\n      <td>고객</td>\n      <td>차는 어디에 세울 수 있어요?</td>\n      <td>주차문의</td>\n      <td>Q</td>\n    </tr>\n    <tr>\n      <th>7167</th>\n      <td>점원</td>\n      <td>주차장은 따로 없고 타워 맞은편 주차 라인이나 상가 앞에 세우셔야 해요</td>\n      <td>주차문의</td>\n      <td>A</td>\n    </tr>\n  </tbody>\n</table>\n<p>7168 rows × 4 columns</p>\n</div>"
     },
     "execution_count": 7,
     "metadata": {},
     "output_type": "execute_result"
    }
   ],
   "source": [
    "df = pd.read_csv('G:\\\\내 드라이브\\\\Watching_You_PJ\\\\project_ChatBot\\\\02_preprocessing\\\\Cleaned_Data.csv')\n",
    "df"
   ],
   "metadata": {
    "collapsed": false,
    "pycharm": {
     "name": "#%%\n"
    }
   }
  },
  {
   "cell_type": "code",
   "execution_count": 8,
   "outputs": [
    {
     "data": {
      "text/plain": "                        SENTENCE   MAIN\n0                   아이스아메리카노 하나요   일반주문\n2                   네 텀블러에 넣어주세요  텀블러사용\n4                   그란데 사이즈로 주세요   일반주문\n10                 저 카푸치노로 주문할게요   일반주문\n16    그럼 2000원 추가해서 브레드도 같이 시킬게요   결제요청\n...                          ...    ...\n7156               하우스 블렌딩은 뭐예요?   메뉴문의\n7158       약간 산미 나는 걸로 한 잔 주실래요?   일반주문\n7160                마시고 가면 얼마예요?   일반주문\n7162                영수증 하나 주실래요?  영수증요청\n7166            차는 어디에 세울 수 있어요?   주차문의\n\n[3048 rows x 2 columns]",
      "text/html": "<div>\n<style scoped>\n    .dataframe tbody tr th:only-of-type {\n        vertical-align: middle;\n    }\n\n    .dataframe tbody tr th {\n        vertical-align: top;\n    }\n\n    .dataframe thead th {\n        text-align: right;\n    }\n</style>\n<table border=\"1\" class=\"dataframe\">\n  <thead>\n    <tr style=\"text-align: right;\">\n      <th></th>\n      <th>SENTENCE</th>\n      <th>MAIN</th>\n    </tr>\n  </thead>\n  <tbody>\n    <tr>\n      <th>0</th>\n      <td>아이스아메리카노 하나요</td>\n      <td>일반주문</td>\n    </tr>\n    <tr>\n      <th>2</th>\n      <td>네 텀블러에 넣어주세요</td>\n      <td>텀블러사용</td>\n    </tr>\n    <tr>\n      <th>4</th>\n      <td>그란데 사이즈로 주세요</td>\n      <td>일반주문</td>\n    </tr>\n    <tr>\n      <th>10</th>\n      <td>저 카푸치노로 주문할게요</td>\n      <td>일반주문</td>\n    </tr>\n    <tr>\n      <th>16</th>\n      <td>그럼 2000원 추가해서 브레드도 같이 시킬게요</td>\n      <td>결제요청</td>\n    </tr>\n    <tr>\n      <th>...</th>\n      <td>...</td>\n      <td>...</td>\n    </tr>\n    <tr>\n      <th>7156</th>\n      <td>하우스 블렌딩은 뭐예요?</td>\n      <td>메뉴문의</td>\n    </tr>\n    <tr>\n      <th>7158</th>\n      <td>약간 산미 나는 걸로 한 잔 주실래요?</td>\n      <td>일반주문</td>\n    </tr>\n    <tr>\n      <th>7160</th>\n      <td>마시고 가면 얼마예요?</td>\n      <td>일반주문</td>\n    </tr>\n    <tr>\n      <th>7162</th>\n      <td>영수증 하나 주실래요?</td>\n      <td>영수증요청</td>\n    </tr>\n    <tr>\n      <th>7166</th>\n      <td>차는 어디에 세울 수 있어요?</td>\n      <td>주차문의</td>\n    </tr>\n  </tbody>\n</table>\n<p>3048 rows × 2 columns</p>\n</div>"
     },
     "execution_count": 8,
     "metadata": {},
     "output_type": "execute_result"
    }
   ],
   "source": [
    "df_consumer_2 = (df.SPEAKER =='고객') & (df.QA =='Q')\n",
    "df =df[df_consumer_2]\n",
    "df_bert = df[['SENTENCE','MAIN']]\n",
    "df_bert"
   ],
   "metadata": {
    "collapsed": false,
    "pycharm": {
     "name": "#%%\n"
    }
   }
  },
  {
   "cell_type": "code",
   "execution_count": 9,
   "outputs": [
    {
     "name": "stderr",
     "output_type": "stream",
     "text": [
      "C:\\Anaconda\\envs\\music_category_classification\\lib\\site-packages\\ipykernel_launcher.py:7: SettingWithCopyWarning: \n",
      "A value is trying to be set on a copy of a slice from a DataFrame.\n",
      "Try using .loc[row_indexer,col_indexer] = value instead\n",
      "\n",
      "See the caveats in the documentation: https://pandas.pydata.org/pandas-docs/stable/user_guide/indexing.html#returning-a-view-versus-a-copy\n",
      "  import sys\n"
     ]
    }
   ],
   "source": [
    "category_list = list(df_bert['MAIN'].unique())\n",
    "num = []\n",
    "for i in df_bert['MAIN']:\n",
    "  for k in category_list:\n",
    "    if i == k:\n",
    "      num.append(category_list.index(k))\n",
    "df_bert['num'] = num\n",
    "df_bert.to_csv('G:\\\\내 드라이브\\\\Watching_You_PJ\\\\project_ChatBot\\\\02_preprocessing\\\\bert_preprocessing.csv',index=False)\n",
    "df_bert.to_csv('G:\\\\내 드라이브\\\\Watching_You_PJ\\\\project_ChatBot\\\\02_preprocessing\\\\bert_preprocessing.tsv',index=False,\n",
    "               sep='\\t',encoding='utf-8')\n"
   ],
   "metadata": {
    "collapsed": false,
    "pycharm": {
     "name": "#%%\n"
    }
   }
  },
  {
   "cell_type": "code",
   "execution_count": 10,
   "outputs": [
    {
     "name": "stdout",
     "output_type": "stream",
     "text": [
      "<class 'pandas.core.frame.DataFrame'>\n",
      "Int64Index: 3048 entries, 0 to 7166\n",
      "Data columns (total 3 columns):\n",
      " #   Column    Non-Null Count  Dtype \n",
      "---  ------    --------------  ----- \n",
      " 0   SENTENCE  3048 non-null   object\n",
      " 1   MAIN      3048 non-null   object\n",
      " 2   num       3048 non-null   int64 \n",
      "dtypes: int64(1), object(2)\n",
      "memory usage: 95.2+ KB\n"
     ]
    }
   ],
   "source": [
    "df_bert.info()"
   ],
   "metadata": {
    "collapsed": false,
    "pycharm": {
     "name": "#%%\n"
    }
   }
  },
  {
   "cell_type": "code",
   "execution_count": 11,
   "outputs": [
    {
     "data": {
      "text/plain": "메뉴문의              747\n일반주문              527\n가격문의              183\n쿠폰멤버십적립문의         145\n주문가능여부문의           99\n                 ... \n주문취소                1\n기프티콘쿠폰멤버실결제요구       1\n메뉴가나오는것을재촉하는상황      1\n애완견출입문의             1\n판매여부문의              1\nName: MAIN, Length: 126, dtype: int64"
     },
     "execution_count": 11,
     "metadata": {},
     "output_type": "execute_result"
    }
   ],
   "source": [
    "df_bert['MAIN'].value_counts()"
   ],
   "metadata": {
    "collapsed": false,
    "pycharm": {
     "name": "#%%\n"
    }
   }
  },
  {
   "cell_type": "code",
   "execution_count": null,
   "outputs": [],
   "source": [],
   "metadata": {
    "collapsed": false,
    "pycharm": {
     "name": "#%%\n"
    }
   }
  }
 ],
 "metadata": {
  "kernelspec": {
   "display_name": "Python 3",
   "language": "python",
   "name": "python3"
  },
  "language_info": {
   "codemirror_mode": {
    "name": "ipython",
    "version": 2
   },
   "file_extension": ".py",
   "mimetype": "text/x-python",
   "name": "python",
   "nbconvert_exporter": "python",
   "pygments_lexer": "ipython2",
   "version": "2.7.6"
  }
 },
 "nbformat": 4,
 "nbformat_minor": 0
}