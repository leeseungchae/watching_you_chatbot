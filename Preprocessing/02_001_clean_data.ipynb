{
 "cells": [
  {
   "cell_type": "code",
   "execution_count": 1,
   "metadata": {
    "collapsed": true
   },
   "outputs": [],
   "source": [
    "import pandas as pd"
   ]
  },
  {
   "cell_type": "code",
   "execution_count": 2,
   "outputs": [],
   "source": [
    "df = pd.read_csv('G:\\\\내 드라이브\\\\Watching_You_PJ\\project_ChatBot\\\\01_DataSet\\\\1_Raw_Data\\\\02_카페.csv')"
   ],
   "metadata": {
    "collapsed": false,
    "pycharm": {
     "name": "#%%\n"
    }
   }
  },
  {
   "cell_type": "code",
   "execution_count": 3,
   "outputs": [
    {
     "data": {
      "text/plain": "           IDX 발화자                                  발화문 카테고리   QA번호 QA여부 감성  \\\n0            1   s                  고객님 혹시 무슨 문제 있으신가요?   카페      5    q  m   \n1            2   c                               네 이상해요   카페      5    a  m   \n2            3   c  빙수 위에 뿌려진 과일에서 쉰 냄새가 나는데 어떻게 하면 되죠?   카페  20591    q  n   \n3            4   s      죄송합니다, 폐기처분 하고 새 빙수를 제조해드리겠습니다.   카페  20591    a  m   \n4            5   c              마카롱 주문했는데 마카롱이 엄청 딱딱해요.   카페  66996    q  n   \n...        ...  ..                                  ...  ...    ...  ... ..   \n169628  169629   s           죄송합니다, 모바일상품권은 사용이 어려우십니다.   카페   6799    a  m   \n169629  169630   c             기프티콘으로 음료 계산할 수 있는 거 맞죠?   카페  10432    q  m   \n169630  169631   s               네, 기프티콘으로 음료 계산 가능합니다.   카페  10432    a  m   \n169631  169632   c              후레쉬크림빵 포인트로 결제할 수 있는거죠?   카페  47312    q  m   \n169632  169633   s                     네, 포인트로 결제가능합니다.   카페  47312    a  m   \n\n             인텐트   가격   수량   크기   장소   조직   사람   시간   날짜     상품명   상담번호  상담내순번  \n0       제품_불량_질문  NaN  NaN  NaN  NaN  NaN  NaN  NaN  NaN     NaN   9252      9  \n1       제품_불량_질문  NaN  NaN  NaN  NaN  NaN  NaN  NaN  NaN     NaN   9252     10  \n2       제품_불량_질문  NaN  NaN  NaN  NaN  NaN  NaN  NaN  NaN   빙수|과일  20591      1  \n3       제품_불량_질문  NaN  NaN  NaN  NaN  NaN  NaN  NaN  NaN      빙수  20591      2  \n4       제품_불량_질문  NaN  NaN  NaN  NaN  NaN  NaN  NaN  NaN     마카롱  66996      1  \n...          ...  ...  ...  ...  ...  ...  ...  ...  ...     ...    ...    ...  \n169628  결제_수단_확인  NaN  NaN  NaN  NaN  NaN  NaN  NaN  NaN     NaN   6799      2  \n169629  결제_수단_확인  NaN  NaN  NaN  NaN  NaN  NaN  NaN  NaN     NaN  10432      1  \n169630  결제_수단_확인  NaN  NaN  NaN  NaN  NaN  NaN  NaN  NaN     NaN  10432      2  \n169631  결제_수단_확인  NaN  NaN  NaN  NaN  NaN  NaN  NaN  NaN  후레쉬크림빵  47312      1  \n169632  결제_수단_확인  NaN  NaN  NaN  NaN  NaN  NaN  NaN  NaN     NaN  47312      2  \n\n[169633 rows x 19 columns]",
      "text/html": "<div>\n<style scoped>\n    .dataframe tbody tr th:only-of-type {\n        vertical-align: middle;\n    }\n\n    .dataframe tbody tr th {\n        vertical-align: top;\n    }\n\n    .dataframe thead th {\n        text-align: right;\n    }\n</style>\n<table border=\"1\" class=\"dataframe\">\n  <thead>\n    <tr style=\"text-align: right;\">\n      <th></th>\n      <th>IDX</th>\n      <th>발화자</th>\n      <th>발화문</th>\n      <th>카테고리</th>\n      <th>QA번호</th>\n      <th>QA여부</th>\n      <th>감성</th>\n      <th>인텐트</th>\n      <th>가격</th>\n      <th>수량</th>\n      <th>크기</th>\n      <th>장소</th>\n      <th>조직</th>\n      <th>사람</th>\n      <th>시간</th>\n      <th>날짜</th>\n      <th>상품명</th>\n      <th>상담번호</th>\n      <th>상담내순번</th>\n    </tr>\n  </thead>\n  <tbody>\n    <tr>\n      <th>0</th>\n      <td>1</td>\n      <td>s</td>\n      <td>고객님 혹시 무슨 문제 있으신가요?</td>\n      <td>카페</td>\n      <td>5</td>\n      <td>q</td>\n      <td>m</td>\n      <td>제품_불량_질문</td>\n      <td>NaN</td>\n      <td>NaN</td>\n      <td>NaN</td>\n      <td>NaN</td>\n      <td>NaN</td>\n      <td>NaN</td>\n      <td>NaN</td>\n      <td>NaN</td>\n      <td>NaN</td>\n      <td>9252</td>\n      <td>9</td>\n    </tr>\n    <tr>\n      <th>1</th>\n      <td>2</td>\n      <td>c</td>\n      <td>네 이상해요</td>\n      <td>카페</td>\n      <td>5</td>\n      <td>a</td>\n      <td>m</td>\n      <td>제품_불량_질문</td>\n      <td>NaN</td>\n      <td>NaN</td>\n      <td>NaN</td>\n      <td>NaN</td>\n      <td>NaN</td>\n      <td>NaN</td>\n      <td>NaN</td>\n      <td>NaN</td>\n      <td>NaN</td>\n      <td>9252</td>\n      <td>10</td>\n    </tr>\n    <tr>\n      <th>2</th>\n      <td>3</td>\n      <td>c</td>\n      <td>빙수 위에 뿌려진 과일에서 쉰 냄새가 나는데 어떻게 하면 되죠?</td>\n      <td>카페</td>\n      <td>20591</td>\n      <td>q</td>\n      <td>n</td>\n      <td>제품_불량_질문</td>\n      <td>NaN</td>\n      <td>NaN</td>\n      <td>NaN</td>\n      <td>NaN</td>\n      <td>NaN</td>\n      <td>NaN</td>\n      <td>NaN</td>\n      <td>NaN</td>\n      <td>빙수|과일</td>\n      <td>20591</td>\n      <td>1</td>\n    </tr>\n    <tr>\n      <th>3</th>\n      <td>4</td>\n      <td>s</td>\n      <td>죄송합니다, 폐기처분 하고 새 빙수를 제조해드리겠습니다.</td>\n      <td>카페</td>\n      <td>20591</td>\n      <td>a</td>\n      <td>m</td>\n      <td>제품_불량_질문</td>\n      <td>NaN</td>\n      <td>NaN</td>\n      <td>NaN</td>\n      <td>NaN</td>\n      <td>NaN</td>\n      <td>NaN</td>\n      <td>NaN</td>\n      <td>NaN</td>\n      <td>빙수</td>\n      <td>20591</td>\n      <td>2</td>\n    </tr>\n    <tr>\n      <th>4</th>\n      <td>5</td>\n      <td>c</td>\n      <td>마카롱 주문했는데 마카롱이 엄청 딱딱해요.</td>\n      <td>카페</td>\n      <td>66996</td>\n      <td>q</td>\n      <td>n</td>\n      <td>제품_불량_질문</td>\n      <td>NaN</td>\n      <td>NaN</td>\n      <td>NaN</td>\n      <td>NaN</td>\n      <td>NaN</td>\n      <td>NaN</td>\n      <td>NaN</td>\n      <td>NaN</td>\n      <td>마카롱</td>\n      <td>66996</td>\n      <td>1</td>\n    </tr>\n    <tr>\n      <th>...</th>\n      <td>...</td>\n      <td>...</td>\n      <td>...</td>\n      <td>...</td>\n      <td>...</td>\n      <td>...</td>\n      <td>...</td>\n      <td>...</td>\n      <td>...</td>\n      <td>...</td>\n      <td>...</td>\n      <td>...</td>\n      <td>...</td>\n      <td>...</td>\n      <td>...</td>\n      <td>...</td>\n      <td>...</td>\n      <td>...</td>\n      <td>...</td>\n    </tr>\n    <tr>\n      <th>169628</th>\n      <td>169629</td>\n      <td>s</td>\n      <td>죄송합니다, 모바일상품권은 사용이 어려우십니다.</td>\n      <td>카페</td>\n      <td>6799</td>\n      <td>a</td>\n      <td>m</td>\n      <td>결제_수단_확인</td>\n      <td>NaN</td>\n      <td>NaN</td>\n      <td>NaN</td>\n      <td>NaN</td>\n      <td>NaN</td>\n      <td>NaN</td>\n      <td>NaN</td>\n      <td>NaN</td>\n      <td>NaN</td>\n      <td>6799</td>\n      <td>2</td>\n    </tr>\n    <tr>\n      <th>169629</th>\n      <td>169630</td>\n      <td>c</td>\n      <td>기프티콘으로 음료 계산할 수 있는 거 맞죠?</td>\n      <td>카페</td>\n      <td>10432</td>\n      <td>q</td>\n      <td>m</td>\n      <td>결제_수단_확인</td>\n      <td>NaN</td>\n      <td>NaN</td>\n      <td>NaN</td>\n      <td>NaN</td>\n      <td>NaN</td>\n      <td>NaN</td>\n      <td>NaN</td>\n      <td>NaN</td>\n      <td>NaN</td>\n      <td>10432</td>\n      <td>1</td>\n    </tr>\n    <tr>\n      <th>169630</th>\n      <td>169631</td>\n      <td>s</td>\n      <td>네, 기프티콘으로 음료 계산 가능합니다.</td>\n      <td>카페</td>\n      <td>10432</td>\n      <td>a</td>\n      <td>m</td>\n      <td>결제_수단_확인</td>\n      <td>NaN</td>\n      <td>NaN</td>\n      <td>NaN</td>\n      <td>NaN</td>\n      <td>NaN</td>\n      <td>NaN</td>\n      <td>NaN</td>\n      <td>NaN</td>\n      <td>NaN</td>\n      <td>10432</td>\n      <td>2</td>\n    </tr>\n    <tr>\n      <th>169631</th>\n      <td>169632</td>\n      <td>c</td>\n      <td>후레쉬크림빵 포인트로 결제할 수 있는거죠?</td>\n      <td>카페</td>\n      <td>47312</td>\n      <td>q</td>\n      <td>m</td>\n      <td>결제_수단_확인</td>\n      <td>NaN</td>\n      <td>NaN</td>\n      <td>NaN</td>\n      <td>NaN</td>\n      <td>NaN</td>\n      <td>NaN</td>\n      <td>NaN</td>\n      <td>NaN</td>\n      <td>후레쉬크림빵</td>\n      <td>47312</td>\n      <td>1</td>\n    </tr>\n    <tr>\n      <th>169632</th>\n      <td>169633</td>\n      <td>s</td>\n      <td>네, 포인트로 결제가능합니다.</td>\n      <td>카페</td>\n      <td>47312</td>\n      <td>a</td>\n      <td>m</td>\n      <td>결제_수단_확인</td>\n      <td>NaN</td>\n      <td>NaN</td>\n      <td>NaN</td>\n      <td>NaN</td>\n      <td>NaN</td>\n      <td>NaN</td>\n      <td>NaN</td>\n      <td>NaN</td>\n      <td>NaN</td>\n      <td>47312</td>\n      <td>2</td>\n    </tr>\n  </tbody>\n</table>\n<p>169633 rows × 19 columns</p>\n</div>"
     },
     "execution_count": 3,
     "metadata": {},
     "output_type": "execute_result"
    }
   ],
   "source": [
    "df"
   ],
   "metadata": {
    "collapsed": false,
    "pycharm": {
     "name": "#%%\n"
    }
   }
  },
  {
   "cell_type": "code",
   "execution_count": 4,
   "outputs": [],
   "source": [
    "df= df[['IDX','발화자','발화문','인텐트','QA여부','QA번호']]"
   ],
   "metadata": {
    "collapsed": false,
    "pycharm": {
     "name": "#%%\n"
    }
   }
  },
  {
   "cell_type": "code",
   "execution_count": 5,
   "outputs": [
    {
     "data": {
      "text/plain": "           IDX 발화자                                  발화문       인텐트 QA여부   QA번호\n0            1   s                  고객님 혹시 무슨 문제 있으신가요?  제품_불량_질문    q      5\n1            2   c                               네 이상해요  제품_불량_질문    a      5\n2            3   c  빙수 위에 뿌려진 과일에서 쉰 냄새가 나는데 어떻게 하면 되죠?  제품_불량_질문    q  20591\n3            4   s      죄송합니다, 폐기처분 하고 새 빙수를 제조해드리겠습니다.  제품_불량_질문    a  20591\n4            5   c              마카롱 주문했는데 마카롱이 엄청 딱딱해요.  제품_불량_질문    q  66996\n...        ...  ..                                  ...       ...  ...    ...\n169628  169629   s           죄송합니다, 모바일상품권은 사용이 어려우십니다.  결제_수단_확인    a   6799\n169629  169630   c             기프티콘으로 음료 계산할 수 있는 거 맞죠?  결제_수단_확인    q  10432\n169630  169631   s               네, 기프티콘으로 음료 계산 가능합니다.  결제_수단_확인    a  10432\n169631  169632   c              후레쉬크림빵 포인트로 결제할 수 있는거죠?  결제_수단_확인    q  47312\n169632  169633   s                     네, 포인트로 결제가능합니다.  결제_수단_확인    a  47312\n\n[169633 rows x 6 columns]",
      "text/html": "<div>\n<style scoped>\n    .dataframe tbody tr th:only-of-type {\n        vertical-align: middle;\n    }\n\n    .dataframe tbody tr th {\n        vertical-align: top;\n    }\n\n    .dataframe thead th {\n        text-align: right;\n    }\n</style>\n<table border=\"1\" class=\"dataframe\">\n  <thead>\n    <tr style=\"text-align: right;\">\n      <th></th>\n      <th>IDX</th>\n      <th>발화자</th>\n      <th>발화문</th>\n      <th>인텐트</th>\n      <th>QA여부</th>\n      <th>QA번호</th>\n    </tr>\n  </thead>\n  <tbody>\n    <tr>\n      <th>0</th>\n      <td>1</td>\n      <td>s</td>\n      <td>고객님 혹시 무슨 문제 있으신가요?</td>\n      <td>제품_불량_질문</td>\n      <td>q</td>\n      <td>5</td>\n    </tr>\n    <tr>\n      <th>1</th>\n      <td>2</td>\n      <td>c</td>\n      <td>네 이상해요</td>\n      <td>제품_불량_질문</td>\n      <td>a</td>\n      <td>5</td>\n    </tr>\n    <tr>\n      <th>2</th>\n      <td>3</td>\n      <td>c</td>\n      <td>빙수 위에 뿌려진 과일에서 쉰 냄새가 나는데 어떻게 하면 되죠?</td>\n      <td>제품_불량_질문</td>\n      <td>q</td>\n      <td>20591</td>\n    </tr>\n    <tr>\n      <th>3</th>\n      <td>4</td>\n      <td>s</td>\n      <td>죄송합니다, 폐기처분 하고 새 빙수를 제조해드리겠습니다.</td>\n      <td>제품_불량_질문</td>\n      <td>a</td>\n      <td>20591</td>\n    </tr>\n    <tr>\n      <th>4</th>\n      <td>5</td>\n      <td>c</td>\n      <td>마카롱 주문했는데 마카롱이 엄청 딱딱해요.</td>\n      <td>제품_불량_질문</td>\n      <td>q</td>\n      <td>66996</td>\n    </tr>\n    <tr>\n      <th>...</th>\n      <td>...</td>\n      <td>...</td>\n      <td>...</td>\n      <td>...</td>\n      <td>...</td>\n      <td>...</td>\n    </tr>\n    <tr>\n      <th>169628</th>\n      <td>169629</td>\n      <td>s</td>\n      <td>죄송합니다, 모바일상품권은 사용이 어려우십니다.</td>\n      <td>결제_수단_확인</td>\n      <td>a</td>\n      <td>6799</td>\n    </tr>\n    <tr>\n      <th>169629</th>\n      <td>169630</td>\n      <td>c</td>\n      <td>기프티콘으로 음료 계산할 수 있는 거 맞죠?</td>\n      <td>결제_수단_확인</td>\n      <td>q</td>\n      <td>10432</td>\n    </tr>\n    <tr>\n      <th>169630</th>\n      <td>169631</td>\n      <td>s</td>\n      <td>네, 기프티콘으로 음료 계산 가능합니다.</td>\n      <td>결제_수단_확인</td>\n      <td>a</td>\n      <td>10432</td>\n    </tr>\n    <tr>\n      <th>169631</th>\n      <td>169632</td>\n      <td>c</td>\n      <td>후레쉬크림빵 포인트로 결제할 수 있는거죠?</td>\n      <td>결제_수단_확인</td>\n      <td>q</td>\n      <td>47312</td>\n    </tr>\n    <tr>\n      <th>169632</th>\n      <td>169633</td>\n      <td>s</td>\n      <td>네, 포인트로 결제가능합니다.</td>\n      <td>결제_수단_확인</td>\n      <td>a</td>\n      <td>47312</td>\n    </tr>\n  </tbody>\n</table>\n<p>169633 rows × 6 columns</p>\n</div>"
     },
     "execution_count": 5,
     "metadata": {},
     "output_type": "execute_result"
    }
   ],
   "source": [
    "df"
   ],
   "metadata": {
    "collapsed": false,
    "pycharm": {
     "name": "#%%\n"
    }
   }
  },
  {
   "cell_type": "code",
   "execution_count": 6,
   "outputs": [],
   "source": [
    "df.to_csv('G:\\\\내 드라이브\\\\Watching_You_PJ\\\\project_ChatBot\\\\02_preprocessing\\\\02_001_Cleaned_Data.csv',index =False)"
   ],
   "metadata": {
    "collapsed": false,
    "pycharm": {
     "name": "#%%\n"
    }
   }
  },
  {
   "cell_type": "code",
   "execution_count": 39,
   "outputs": [],
   "source": [],
   "metadata": {
    "collapsed": false,
    "pycharm": {
     "name": "#%%\n"
    }
   }
  }
 ],
 "metadata": {
  "kernelspec": {
   "display_name": "Python 3",
   "language": "python",
   "name": "python3"
  },
  "language_info": {
   "codemirror_mode": {
    "name": "ipython",
    "version": 2
   },
   "file_extension": ".py",
   "mimetype": "text/x-python",
   "name": "python",
   "nbconvert_exporter": "python",
   "pygments_lexer": "ipython2",
   "version": "2.7.6"
  }
 },
 "nbformat": 4,
 "nbformat_minor": 0
}